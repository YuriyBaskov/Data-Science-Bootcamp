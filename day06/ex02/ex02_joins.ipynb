{
 "cells": [
  {
   "cell_type": "markdown",
   "id": "1cbdd394-cc7c-4565-abe7-d8b9e5232967",
   "metadata": {},
   "source": [
    "## Создаем подключение к базе данных с помощью библиотеки sqlite3"
   ]
  },
  {
   "cell_type": "code",
   "execution_count": 62,
   "id": "53edf2ed-a2a2-4ffc-a359-e5e010ab02d7",
   "metadata": {},
   "outputs": [],
   "source": [
    "import pandas as pd\n",
    "import sqlite3\n",
    "\n",
    "conn = sqlite3.connect('../data/checking-logs.sqlite')"
   ]
  },
  {
   "cell_type": "markdown",
   "id": "11d7dcd4-9d51-4112-87d0-d1166046e091",
   "metadata": {},
   "source": [
    "## Создать новую таблицу datamart в базе данных, объединив таблицы pageviews и checker, используя только один запрос\n",
    "- таблица должна иметь следующие столбцы: uid, labname, first_commit_ts, first_view_ts\n",
    "- first_commit_ts — это просто новое имя столбца timestamp из таблицы проверки, оно показывает первый коммит из конкретной лаборатории и от конкретного пользователя.\n",
    "- first_view_ts — первый визит пользователя в таблицу pageviews, временная метка, когда пользователь посетил ленту новостей\n",
    "- статус = «готов» все еще должен быть фильтром\n",
    "- numTrials = 1 все равно должен быть фильтром\n",
    "- имена лабораторий должны быть из списка: 'laba04', 'laba04s', 'laba05', 'laba06', 'laba06s', 'project1'\n",
    "- таблица должна содержать только пользователей (uid с user_*), а не администраторов\n",
    "- first_commit_ts и first_view_ts следует анализировать как datetime64[ns]"
   ]
  },
  {
   "cell_type": "code",
   "execution_count": 63,
   "id": "3572cb3c-d688-4578-a590-5142eff70e71",
   "metadata": {},
   "outputs": [
    {
     "data": {
      "text/plain": [
       "<sqlite3.Cursor at 0x7f3a793c35e0>"
      ]
     },
     "execution_count": 63,
     "metadata": {},
     "output_type": "execute_result"
    }
   ],
   "source": [
    "conn.execute(\"DROP TABLE IF EXISTS datamart\")\n",
    "\n",
    "query = '''\n",
    "CREATE TABLE datamart AS\n",
    "SELECT\n",
    "    c.uid,\n",
    "    c.labname,\n",
    "    c.timestamp AS first_commit_ts,\n",
    "    MIN(p.datetime) AS first_view_ts\n",
    "FROM\n",
    "    checker c\n",
    "LEFT JOIN\n",
    "    pageviews p ON c.uid = p.uid\n",
    "WHERE\n",
    "    c.status = 'ready'\n",
    "    AND c.numTrials = 1\n",
    "    AND c.labname IN ('laba04', 'laba04s', 'laba05', 'laba06', 'laba06s', 'project1')\n",
    "    AND c.uid LIKE 'user_%'\n",
    "GROUP BY\n",
    "    c.uid, c.labname, c.timestamp\n",
    "'''\n",
    "\n",
    "conn.execute(query)"
   ]
  },
  {
   "cell_type": "code",
   "execution_count": 64,
   "id": "744ce160-a2c2-4042-86cd-70261885cae7",
   "metadata": {},
   "outputs": [
    {
     "name": "stdout",
     "output_type": "stream",
     "text": [
      "        uid   labname            first_commit_ts              first_view_ts\n",
      "0    user_1    laba04 2020-04-26 17:06:18.462708 2020-04-26 21:53:59.624136\n",
      "1    user_1   laba04s 2020-04-26 17:12:11.843671 2020-04-26 21:53:59.624136\n",
      "2    user_1    laba05 2020-05-02 19:15:18.540185 2020-04-26 21:53:59.624136\n",
      "3    user_1    laba06 2020-05-17 16:26:35.268534 2020-04-26 21:53:59.624136\n",
      "4    user_1   laba06s 2020-05-20 12:23:37.289724 2020-04-26 21:53:59.624136\n",
      "..      ...       ...                        ...                        ...\n",
      "135  user_8   laba04s 2020-04-19 10:22:35.761944                        NaT\n",
      "136  user_8    laba05 2020-05-02 13:28:07.705193                        NaT\n",
      "137  user_8    laba06 2020-05-16 17:56:15.755553                        NaT\n",
      "138  user_8   laba06s 2020-05-16 20:01:07.900727                        NaT\n",
      "139  user_8  project1 2020-05-14 15:42:04.002981                        NaT\n",
      "\n",
      "[140 rows x 4 columns]\n"
     ]
    }
   ],
   "source": [
    "datamart = pd.read_sql_query(\"SELECT * FROM datamart\", conn)\n",
    "\n",
    "# Преобразование столбцов в datetime64[ns]\n",
    "datamart['first_commit_ts'] = pd.to_datetime(datamart['first_commit_ts'])\n",
    "datamart['first_view_ts'] = pd.to_datetime(datamart['first_view_ts'])\n",
    "\n",
    "print(datamart)"
   ]
  },
  {
   "cell_type": "markdown",
   "id": "7b223d9a-e1dd-4a40-a380-3a60c954cf5d",
   "metadata": {},
   "source": [
    "## Используя методы Pandas, создайте два фрейма данных: тестовый и контрольный.\n",
    "- тест должен иметь пользователей, которые имеют значения в first_view_ts\n",
    "- элемент управления должен иметь пользователей, у которых отсутствуют значения в first_view_ts\n",
    "- замените отсутствующие значения в элементе управления средним значением first_view_ts тестовых пользователей, мы будем использовать это значение для будущего анализа\n",
    "- сохраните обе таблицы в базе данных, они вам понадобятся в следующих упражнениях."
   ]
  },
  {
   "cell_type": "code",
   "execution_count": 65,
   "id": "12867e07-f95f-49aa-ae4f-a5dda9eb1873",
   "metadata": {},
   "outputs": [
    {
     "name": "stdout",
     "output_type": "stream",
     "text": [
      "Количество строк в datamart: 140\n",
      "Количество строк в test: 59\n",
      "Количество строк в control: 81\n"
     ]
    },
    {
     "data": {
      "text/plain": [
       "81"
      ]
     },
     "execution_count": 65,
     "metadata": {},
     "output_type": "execute_result"
    }
   ],
   "source": [
    "test = datamart.dropna(subset=['first_view_ts']) # Создание тестового фрейма данных\n",
    "\n",
    "control = datamart[datamart['first_view_ts'].isna()] # Создание контрольного фрейма данных\n",
    "\n",
    "# Замена отсутствующих значений в контрольном фрейме данных\n",
    "mean_first_view_ts = test['first_view_ts'].mean()\n",
    "control.loc[:, 'first_view_ts'] = control['first_view_ts'].fillna(mean_first_view_ts)\n",
    "\n",
    "# Печать количества строк в datamart_df\n",
    "print(f\"Количество строк в datamart: {len(datamart)}\")\n",
    "\n",
    "# Печать количества строк в test_d\n",
    "print(f\"Количество строк в test: {len(test)}\")\n",
    "print(f\"Количество строк в control: {len(control)}\")\n",
    "\n",
    "test.to_sql('test_datamart', conn, index=False, if_exists='replace') # Сохранение тестового фрейма данных в базе данных\n",
    "\n",
    "control.to_sql('control_datamart', conn, index=False, if_exists='replace') # Сохранение контрольного фрейма данных в базе данных\n"
   ]
  },
  {
   "cell_type": "markdown",
   "id": "654eb312-41ae-42d1-ab58-2ab96263a359",
   "metadata": {},
   "source": [
    "## Закрыть соединение"
   ]
  },
  {
   "cell_type": "code",
   "execution_count": 69,
   "id": "8caa80cb-cb54-43b5-83a2-0d56dc1fdfb6",
   "metadata": {},
   "outputs": [],
   "source": [
    "conn.close()"
   ]
  }
 ],
 "metadata": {
  "kernelspec": {
   "display_name": "Python 3 (ipykernel)",
   "language": "python",
   "name": "python3"
  },
  "language_info": {
   "codemirror_mode": {
    "name": "ipython",
    "version": 3
   },
   "file_extension": ".py",
   "mimetype": "text/x-python",
   "name": "python",
   "nbconvert_exporter": "python",
   "pygments_lexer": "ipython3",
   "version": "3.8.10"
  }
 },
 "nbformat": 4,
 "nbformat_minor": 5
}
