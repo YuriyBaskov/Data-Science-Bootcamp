{
 "cells": [
  {
   "cell_type": "markdown",
   "id": "1a3e1270-b7f1-4f60-96cc-db45b8e02da0",
   "metadata": {},
   "source": [
    "## Создаем подключение к базе данных с помощью библиотеки sqlite3"
   ]
  },
  {
   "cell_type": "code",
   "execution_count": 80,
   "id": "0823b958-b9e8-408f-a457-da506fc2a397",
   "metadata": {},
   "outputs": [],
   "source": [
    "import pandas as pd\n",
    "import sqlite3\n",
    "\n",
    "conn = sqlite3.connect('../data/checking-logs.sqlite')\n",
    "cursor = conn.cursor()"
   ]
  },
  {
   "cell_type": "markdown",
   "id": "82b25177-ecb9-4670-b955-4560319a8b0e",
   "metadata": {},
   "source": [
    "## Используя только один запрос для каждой из групп, создайте два фрейма данных: test_results и control_results со столбцами time и avg_diff и только двумя строками\n",
    "- time должно иметь значения: после и до\n",
    "- avg_diff содержит среднюю дельту среди всех пользователей за период времени до того, как каждый из них совершил свой первый визит на страницу, и после этого\n",
    "- учитывать только тех пользователей, у которых есть наблюдения до и после\n",
    "- мы все еще не используем лабораторию «project1»"
   ]
  },
  {
   "cell_type": "code",
   "execution_count": 81,
   "id": "7c7b401a-9f86-46bc-baa7-39b2184a5965",
   "metadata": {},
   "outputs": [
    {
     "name": "stdout",
     "output_type": "stream",
     "text": [
      "Test Results:\n",
      "     time    avg_diff\n",
      "0   after -103.953310\n",
      "1  before  -61.156438\n"
     ]
    }
   ],
   "source": [
    "test_query = \"\"\"\n",
    "SELECT\n",
    "    'after' AS time,\n",
    "    -AVG((julianday(datetime(deadlines.deadlines, 'unixepoch')) - julianday(test.first_commit_ts)) * 24) AS avg_diff\n",
    "FROM\n",
    "    test\n",
    "JOIN\n",
    "    deadlines ON test.labname = deadlines.labs\n",
    "WHERE\n",
    "    deadlines.labs != 'project1'\n",
    "    AND test.first_commit_ts IS NOT NULL\n",
    "    AND deadlines.deadlines IS NOT NULL\n",
    "    AND test.first_commit_ts >= test.first_view_ts\n",
    "\n",
    "UNION ALL\n",
    "\n",
    "SELECT\n",
    "    'before' AS time,\n",
    "    -AVG((julianday(datetime(deadlines.deadlines, 'unixepoch')) - julianday(test.first_commit_ts)) * 24) AS avg_diff\n",
    "FROM\n",
    "    test\n",
    "JOIN\n",
    "    deadlines ON test.labname = deadlines.labs\n",
    "WHERE\n",
    "    deadlines.labs != 'project1'\n",
    "    AND test.first_commit_ts IS NOT NULL\n",
    "    AND deadlines.deadlines IS NOT NULL\n",
    "    AND test.first_commit_ts < test.first_view_ts;\n",
    "\"\"\"\n",
    "\n",
    "\n",
    "test_results = pd.read_sql_query(test_query, conn)\n",
    "\n",
    "print(\"Test Results:\")\n",
    "print(test_results)"
   ]
  },
  {
   "cell_type": "code",
   "execution_count": 82,
   "id": "bb7c7e83-cf3d-4af4-8dbb-bf7b7c9749e5",
   "metadata": {},
   "outputs": [
    {
     "name": "stdout",
     "output_type": "stream",
     "text": [
      "\n",
      "Control Results:\n",
      "     time    avg_diff\n",
      "0   after -113.232197\n",
      "1  before  -99.901295\n"
     ]
    }
   ],
   "source": [
    "control_query = \"\"\"\n",
    "SELECT\n",
    "    'after' AS time,\n",
    "    -AVG((julianday(datetime(deadlines.deadlines, 'unixepoch')) - julianday(control.first_commit_ts)) * 24) AS avg_diff\n",
    "FROM\n",
    "    control\n",
    "JOIN\n",
    "    deadlines ON control.labname = deadlines.labs\n",
    "WHERE\n",
    "    deadlines.labs != 'project1'\n",
    "    AND control.first_commit_ts IS NOT NULL\n",
    "    AND deadlines.deadlines IS NOT NULL\n",
    "    AND control.first_commit_ts >= control.first_view_ts\n",
    "\n",
    "UNION ALL\n",
    "\n",
    "SELECT\n",
    "    'before' AS time,\n",
    "    -AVG((julianday(datetime(deadlines.deadlines, 'unixepoch')) - julianday(control.first_commit_ts)) * 24) AS avg_diff\n",
    "FROM\n",
    "    control\n",
    "JOIN\n",
    "    deadlines ON control.labname = deadlines.labs\n",
    "WHERE\n",
    "    deadlines.labs != 'project1'\n",
    "    AND control.first_commit_ts IS NOT NULL\n",
    "    AND deadlines.deadlines IS NOT NULL\n",
    "    AND control.first_commit_ts < control.first_view_ts;\n",
    "\"\"\"\n",
    "\n",
    "control_results = pd.read_sql_query(control_query, conn)\n",
    "\n",
    "print(\"\\nControl Results:\")\n",
    "print(control_results)"
   ]
  },
  {
   "cell_type": "markdown",
   "id": "ce57db3f-d5f3-4cd7-8c0c-5bb80fda0e2e",
   "metadata": {},
   "source": [
    "## Закрыть соединение"
   ]
  },
  {
   "cell_type": "code",
   "execution_count": 83,
   "id": "ce17f536-50fe-4df7-80d8-edf9ea94e8d3",
   "metadata": {},
   "outputs": [],
   "source": [
    "conn.close()"
   ]
  }
 ],
 "metadata": {
  "kernelspec": {
   "display_name": "Python 3 (ipykernel)",
   "language": "python",
   "name": "python3"
  },
  "language_info": {
   "codemirror_mode": {
    "name": "ipython",
    "version": 3
   },
   "file_extension": ".py",
   "mimetype": "text/x-python",
   "name": "python",
   "nbconvert_exporter": "python",
   "pygments_lexer": "ipython3",
   "version": "3.8.10"
  }
 },
 "nbformat": 4,
 "nbformat_minor": 5
}
