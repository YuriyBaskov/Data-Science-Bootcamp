{
 "cells": [
  {
   "cell_type": "markdown",
   "id": "959c2102-3309-46ec-bd6e-9b7a7dd02588",
   "metadata": {},
   "source": [
    "**1, 2. Поместить базу данных в подпапку data в корневом каталоге дня. Создаем подключение к базе данных с помощью библиотеки sqlite3**"
   ]
  },
  {
   "cell_type": "code",
   "execution_count": 2,
   "id": "837d025a-099c-42c5-b7ce-108950d0192c",
   "metadata": {},
   "outputs": [],
   "source": [
    "import pandas as pd\n",
    "import sqlite3\n",
    "\n",
    "conn = sqlite3.connect('../data/checking-logs.sqlite')"
   ]
  },
  {
   "cell_type": "markdown",
   "id": "460f2a31-31fd-4596-88cb-4a7f4a6af76d",
   "metadata": {},
   "source": [
    "**3. Получить схему таблицы pageviews с помощью pd.io.sql.read_sql и запроса \"PRAGMA table_info(pageviews);\"**"
   ]
  },
  {
   "cell_type": "code",
   "execution_count": 3,
   "id": "7bd286d4-a9e7-4dad-afcf-2e0a728eaf3d",
   "metadata": {},
   "outputs": [],
   "source": [
    "schema_query = \"PRAGMA table_info(pageviews);\"\n",
    "table_schema = pd.io.sql.read_sql(schema_query, conn)"
   ]
  },
  {
   "cell_type": "markdown",
   "id": "20f7de20-faac-46cd-96d2-66a161f44f6e",
   "metadata": {},
   "source": [
    "**4. Получить только первые 10 строк таблицы просмотров страниц, чтобы проверить, как выглядит таблица**"
   ]
  },
  {
   "cell_type": "code",
   "execution_count": 4,
   "id": "6a9d0829-7b7f-439c-90ff-9dde029f92a8",
   "metadata": {},
   "outputs": [
    {
     "name": "stdout",
     "output_type": "stream",
     "text": [
      "   index      uid                    datetime\n",
      "0      0  admin_1  2020-04-17 12:01:08.463179\n",
      "1      1  admin_1  2020-04-17 12:01:23.743946\n",
      "2      2  admin_3  2020-04-17 12:17:39.287778\n",
      "3      3  admin_3  2020-04-17 12:17:40.001768\n",
      "4      4  admin_1  2020-04-17 12:27:30.646665\n",
      "5      5  admin_1  2020-04-17 12:35:44.884757\n",
      "6      6  admin_1  2020-04-17 12:35:52.735016\n",
      "7      7  admin_3  2020-04-17 12:36:21.401412\n",
      "8      8  admin_3  2020-04-17 12:36:22.023355\n",
      "9      9  admin_1  2020-04-17 13:55:19.129243\n"
     ]
    }
   ],
   "source": [
    "first_10_rows_query = \"SELECT * FROM pageviews LIMIT 10;\"\n",
    "first_10_rows = pd.io.sql.read_sql(first_10_rows_query, conn)\n",
    "print(first_10_rows)"
   ]
  },
  {
   "cell_type": "markdown",
   "id": "202c9cb3-7452-4b1d-ac95-f6ce87913a24",
   "metadata": {},
   "source": [
    "**5. Получить подтаблицу, используя только один запрос, где:**\n",
    "- используются только uid и datetime\n",
    "- используются только данные пользователя (user_*), а не данные администратора\n",
    "- сортируется по uid в порядке возрастания\n",
    "- столбец индекса — дата и время\n",
    "- datetime преобразуется в DatetimeIndex\n",
    "- имя фрейма данных — pageviews"
   ]
  },
  {
   "cell_type": "code",
   "execution_count": 5,
   "id": "c3c77977-64a5-4fbe-9fa4-c90945011605",
   "metadata": {},
   "outputs": [
    {
     "name": "stdout",
     "output_type": "stream",
     "text": [
      "                                uid\n",
      "datetime                           \n",
      "2020-04-26 21:53:59.624136   user_1\n",
      "2020-04-26 22:06:19.478143   user_1\n",
      "2020-04-26 22:12:09.614497   user_1\n",
      "2020-04-30 19:29:01.831635   user_1\n",
      "2020-05-05 20:26:32.894852   user_1\n",
      "...                             ...\n",
      "2020-04-29 16:51:21.877630  user_30\n",
      "2020-05-09 20:30:47.034282  user_30\n",
      "2020-05-22 11:30:18.368990   user_5\n",
      "2020-05-21 16:28:28.217529   user_9\n",
      "2020-05-21 16:36:40.915488   user_9\n",
      "\n",
      "[987 rows x 1 columns]\n"
     ]
    }
   ],
   "source": [
    "subtable_query = \"\"\"\n",
    "SELECT uid, datetime\n",
    "FROM pageviews\n",
    "WHERE uid LIKE 'user_%'\n",
    "ORDER BY uid ASC\n",
    "\"\"\"\n",
    "pageviews = pd.io.sql.read_sql(subtable_query, conn, index_col='datetime', parse_dates=['datetime'])\n",
    "\n",
    "print(pageviews)"
   ]
  },
  {
   "cell_type": "markdown",
   "id": "df116754-e1d9-481e-b582-d3b548406994",
   "metadata": {},
   "source": [
    "**6. Закрыть соединение с базой данных**"
   ]
  },
  {
   "cell_type": "code",
   "execution_count": 7,
   "id": "8b2f4a57-8c6f-46cf-85b0-a2f93349d979",
   "metadata": {},
   "outputs": [],
   "source": [
    "conn.close()"
   ]
  }
 ],
 "metadata": {
  "kernelspec": {
   "display_name": "Python 3 (ipykernel)",
   "language": "python",
   "name": "python3"
  },
  "language_info": {
   "codemirror_mode": {
    "name": "ipython",
    "version": 3
   },
   "file_extension": ".py",
   "mimetype": "text/x-python",
   "name": "python",
   "nbconvert_exporter": "python",
   "pygments_lexer": "ipython3",
   "version": "3.8.10"
  }
 },
 "nbformat": 4,
 "nbformat_minor": 5
}
