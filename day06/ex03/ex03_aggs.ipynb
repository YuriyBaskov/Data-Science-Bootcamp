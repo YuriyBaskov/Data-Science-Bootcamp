{
 "cells": [
  {
   "cell_type": "markdown",
   "id": "757a0066-1716-48dd-8c83-34a6e2669698",
   "metadata": {},
   "source": [
    "## Создаем подключение к базе данных с помощью библиотеки sqlite3"
   ]
  },
  {
   "cell_type": "code",
   "execution_count": 77,
   "id": "042d97e5-fb06-4d0b-b4df-646b5881ebb1",
   "metadata": {},
   "outputs": [],
   "source": [
    "import pandas as pd\n",
    "import sqlite3\n",
    "\n",
    "conn = sqlite3.connect('../data/checking-logs.sqlite')\n",
    "cursor = conn.cursor()"
   ]
  },
  {
   "cell_type": "markdown",
   "id": "421500c0-7096-430a-b881-fb6a65dc60b3",
   "metadata": {},
   "source": [
    "## Получить схему таблицы test"
   ]
  },
  {
   "cell_type": "code",
   "execution_count": 78,
   "id": "7357a5b1-5426-461a-a8ea-9e1c2888adbe",
   "metadata": {},
   "outputs": [
    {
     "name": "stdout",
     "output_type": "stream",
     "text": [
      "(0, 'uid', 'TEXT', 0, None, 0)\n",
      "(1, 'labname', 'TEXT', 0, None, 0)\n",
      "(2, 'first_commit_ts', 'TIMESTAMP', 0, None, 0)\n",
      "(3, 'first_view_ts', 'TIMESTAMP', 0, None, 0)\n"
     ]
    }
   ],
   "source": [
    "cursor.execute(\"PRAGMA table_info(test);\")\n",
    "schema = cursor.fetchall()\n",
    "for column in schema:\n",
    "    print(column)"
   ]
  },
  {
   "cell_type": "markdown",
   "id": "0f1159e6-8519-4aa9-8183-9ef5cc71f968",
   "metadata": {},
   "source": [
    "## Получить только первые 10 строк таблицы test, чтобы проверить, как выглядит таблица"
   ]
  },
  {
   "cell_type": "code",
   "execution_count": 79,
   "id": "d4f22328-459a-4b90-acc4-54a0501f724f",
   "metadata": {},
   "outputs": [
    {
     "name": "stdout",
     "output_type": "stream",
     "text": [
      "('user_1', 'laba04', '2020-04-26 17:06:18.462708', '2020-04-26 21:53:59.624136')\n",
      "('user_1', 'laba04s', '2020-04-26 17:12:11.843671', '2020-04-26 21:53:59.624136')\n",
      "('user_1', 'laba05', '2020-05-02 19:15:18.540185', '2020-04-26 21:53:59.624136')\n",
      "('user_1', 'laba06', '2020-05-17 16:26:35.268534', '2020-04-26 21:53:59.624136')\n",
      "('user_1', 'laba06s', '2020-05-20 12:23:37.289724', '2020-04-26 21:53:59.624136')\n",
      "('user_1', 'project1', '2020-05-14 20:56:08.898880', '2020-04-26 21:53:59.624136')\n",
      "('user_10', 'laba04', '2020-04-25 08:24:52.696624', '2020-04-18 12:19:50.182714')\n",
      "('user_10', 'laba04s', '2020-04-25 08:37:54.604222', '2020-04-18 12:19:50.182714')\n",
      "('user_10', 'laba05', '2020-05-01 19:27:26.063245', '2020-04-18 12:19:50.182714')\n",
      "('user_10', 'laba06', '2020-05-19 11:39:28.885637', '2020-04-18 12:19:50.182714')\n"
     ]
    }
   ],
   "source": [
    "cursor.execute(\"SELECT * FROM test LIMIT 10;\")\n",
    "first_10_rows = cursor.fetchall()\n",
    "for row in first_10_rows:\n",
    "    print(row)"
   ]
  },
  {
   "cell_type": "markdown",
   "id": "e020170c-d637-486f-8909-1b4829eaf801",
   "metadata": {},
   "source": [
    "## Найти среди всех пользователей минимальное значение дельты между первым коммитом пользователя и крайним сроком соответствующей лабораторной работы, используя только один запрос\n",
    "- сделайте это, присоединившись к таблице с deadlines\n",
    "- разница должна отображаться в часах\n",
    "- не принимайте во внимание лабораторную работу «проект 1», у нее более длительные сроки выполнения, и она будет выделяться\n",
    "- значение должно быть сохранено в фрейме данных df_min с соответствующим uid"
   ]
  },
  {
   "cell_type": "markdown",
   "id": "0934dce0-2abc-4ebf-8fa2-fb43e0612fb6",
   "metadata": {},
   "source": [
    "--------------------------------------------------------------------------------------------------------------------------------------------------------"
   ]
  },
  {
   "cell_type": "code",
   "execution_count": 80,
   "id": "53f81dba-0bd2-4d5e-b9ff-6f957bd57631",
   "metadata": {},
   "outputs": [
    {
     "name": "stdout",
     "output_type": "stream",
     "text": [
      "(0, 'index', 'INTEGER', 0, None, 0)\n",
      "(1, 'labs', 'TEXT', 0, None, 0)\n",
      "(2, 'deadlines', 'INTEGER', 0, None, 0)\n"
     ]
    }
   ],
   "source": [
    "# Получение схемы таблицы deadlines\n",
    "cursor.execute(\"PRAGMA table_info(deadlines);\")\n",
    "schema = cursor.fetchall()\n",
    "for column in schema:\n",
    "    print(column)"
   ]
  },
  {
   "cell_type": "code",
   "execution_count": 81,
   "id": "4662bc9d-e3c5-4e8b-b773-9b622f88794b",
   "metadata": {},
   "outputs": [
    {
     "name": "stdout",
     "output_type": "stream",
     "text": [
      "(0, 'uid', 'TEXT', 0, None, 0)\n",
      "(1, 'labname', 'TEXT', 0, None, 0)\n",
      "(2, 'first_commit_ts', 'TIMESTAMP', 0, None, 0)\n",
      "(3, 'first_view_ts', 'TIMESTAMP', 0, None, 0)\n"
     ]
    }
   ],
   "source": [
    "# Получение схемы таблицы test\n",
    "cursor.execute(\"PRAGMA table_info(test);\")\n",
    "schema = cursor.fetchall()\n",
    "for column in schema:\n",
    "    print(column)"
   ]
  },
  {
   "cell_type": "code",
   "execution_count": 82,
   "id": "dcce9af6-e9d4-4ae1-9d7c-5f2bd41d001b",
   "metadata": {},
   "outputs": [
    {
     "name": "stdout",
     "output_type": "stream",
     "text": [
      "Sample deadlines: [(1587945599,), (1587945599,), (1588550399,), (1590364799,), (1590364799,), (1589673599,)]\n",
      "Sample first_commit_ts: [('2020-04-26 17:06:18.462708',), ('2020-04-26 17:12:11.843671',), ('2020-05-02 19:15:18.540185',), ('2020-05-17 16:26:35.268534',), ('2020-05-20 12:23:37.289724',), ('2020-05-14 20:56:08.898880',), ('2020-04-25 08:24:52.696624',), ('2020-04-25 08:37:54.604222',), ('2020-05-01 19:27:26.063245',), ('2020-05-19 11:39:28.885637',)]\n"
     ]
    }
   ],
   "source": [
    "# Проверка формата данных в столбце deadlines.deadlines\n",
    "cursor.execute(\"SELECT deadlines FROM deadlines LIMIT 10;\")\n",
    "deadlines_sample = cursor.fetchall()\n",
    "print(\"Sample deadlines:\", deadlines_sample)\n",
    "\n",
    "# Проверка формата данных в столбце test.first_commit_ts\n",
    "cursor.execute(\"SELECT first_commit_ts FROM test LIMIT 10;\")\n",
    "first_commit_sample = cursor.fetchall()\n",
    "print(\"Sample first_commit_ts:\", first_commit_sample)"
   ]
  },
  {
   "cell_type": "markdown",
   "id": "59113c2a-9c4d-4a80-aaad-c9dae9c7655a",
   "metadata": {},
   "source": [
    "<i>Тут видим, что столбец deadlines.deadlines содержит значения в формате UNIX-времени (timestamp), а столбец test.first_commit_ts содержит значения в формате строки даты и времени.\n",
    "С помощью функции datetime мы потом преобразуем UNIX-время в формат даты и времени</i>"
   ]
  },
  {
   "cell_type": "markdown",
   "id": "459f9ed2-c9fb-4199-9857-bb1723546c40",
   "metadata": {},
   "source": [
    "--------------------------------------------------------------------------------------------------------------------------------------------------------"
   ]
  },
  {
   "cell_type": "code",
   "execution_count": 83,
   "id": "b99d46f5-9afe-4d8f-9b9e-1d500a36b5cc",
   "metadata": {},
   "outputs": [
    {
     "name": "stdout",
     "output_type": "stream",
     "text": [
      "Минимальное значение min_diff:\n",
      "       uid  global_min_diff\n",
      "0  user_30       -202.38473\n"
     ]
    }
   ],
   "source": [
    "query_min = \"\"\"\n",
    "SELECT uid, MIN(min_diff) AS global_min_diff\n",
    "FROM (\n",
    "    SELECT test.uid, MIN((julianday(test.first_commit_ts) - julianday(datetime(deadlines.deadlines, 'unixepoch'))) * 24) AS min_diff\n",
    "    FROM test\n",
    "    JOIN deadlines ON test.labname = deadlines.labs\n",
    "    WHERE deadlines.labs != 'project1'\n",
    "      AND test.first_commit_ts IS NOT NULL\n",
    "      AND deadlines.deadlines IS NOT NULL\n",
    "    GROUP BY test.uid\n",
    ") AS subquery;\n",
    "\"\"\"\n",
    "cursor.execute(query_min)\n",
    "result_min = cursor.fetchone()\n",
    "df_min = pd.DataFrame([result_min], columns=['uid', 'global_min_diff'])\n",
    "print(\"Минимальное значение min_diff:\")\n",
    "print(df_min)"
   ]
  },
  {
   "cell_type": "markdown",
   "id": "942d8dbc-71fd-40c3-8d75-fa68641b61ec",
   "metadata": {},
   "source": [
    "## Сделайте то же самое, но для максимума, используя только один запрос, имя dataframe будет df_max"
   ]
  },
  {
   "cell_type": "code",
   "execution_count": 84,
   "id": "c7f61441-d4e4-4469-aa2b-d4699a1b0c61",
   "metadata": {},
   "outputs": [
    {
     "name": "stdout",
     "output_type": "stream",
     "text": [
      "Максимальное значение max_diff:\n",
      "       uid  global_max_diff\n",
      "0  user_25        -2.867236\n"
     ]
    }
   ],
   "source": [
    "query_max = \"\"\"\n",
    "SELECT uid, MAX(max_diff) AS global_max_diff\n",
    "FROM (\n",
    "    SELECT test.uid, MAX((julianday(test.first_commit_ts) - julianday(datetime(deadlines.deadlines, 'unixepoch'))) * 24) AS max_diff\n",
    "    FROM test\n",
    "    JOIN deadlines ON test.labname = deadlines.labs\n",
    "    WHERE deadlines.labs != 'project1'\n",
    "      AND test.first_commit_ts IS NOT NULL\n",
    "      AND deadlines.deadlines IS NOT NULL\n",
    "    GROUP BY test.uid\n",
    ") AS subquery;\n",
    "\"\"\"\n",
    "cursor.execute(query_max)\n",
    "result_max = cursor.fetchone()\n",
    "df_max = pd.DataFrame([result_max], columns=['uid', 'global_max_diff'])\n",
    "print(\"Максимальное значение max_diff:\")\n",
    "print(df_max)"
   ]
  },
  {
   "cell_type": "markdown",
   "id": "bc6fdb5b-5eea-4c87-a5ce-aed7e4bbc6f7",
   "metadata": {},
   "source": [
    "## Сделайте то же самое, но для среднего значения, используя только один запрос, на этот раз ваш фрейм данных не должен включать столбец uid, а имя фрейма данных — df_avg"
   ]
  },
  {
   "cell_type": "code",
   "execution_count": 85,
   "id": "2b9b79fa-1a76-4252-9474-1534fd13538f",
   "metadata": {},
   "outputs": [
    {
     "name": "stdout",
     "output_type": "stream",
     "text": [
      "Средняя дельта (avg_diff):\n",
      "    avg_diff\n",
      "0 -89.687686\n"
     ]
    }
   ],
   "source": [
    "query = \"\"\"\n",
    "SELECT AVG((julianday(test.first_commit_ts) - julianday(datetime(deadlines.deadlines, 'unixepoch'))) * 24) AS avg_diff\n",
    "FROM test\n",
    "JOIN deadlines ON test.labname = deadlines.labs\n",
    "WHERE deadlines.labs != 'project1'\n",
    "  AND test.first_commit_ts IS NOT NULL\n",
    "  AND deadlines.deadlines IS NOT NULL;\n",
    "\"\"\"\n",
    "cursor.execute(query)\n",
    "result = cursor.fetchone()\n",
    "df_avg = pd.DataFrame([result], columns=['avg_diff'])\n",
    "print(\"Средняя дельта (avg_diff):\")\n",
    "print(df_avg)"
   ]
  },
  {
   "cell_type": "markdown",
   "id": "c4b0369d-eef6-440f-8ce5-5940b66c7ea9",
   "metadata": {},
   "source": [
    "## Мы хотим проверить гипотезу о том, что пользователи, которые посетили новостную ленту всего несколько раз, имеют более низкую дельту между первым коммитом и дедлайном. Для этого нужно рассчитать коэффициент корреляции между количеством просмотров страниц и разницей\n",
    "- Используя только один запрос, создайте таблицу со столбцами: uid, avg_diff, pageviews\n",
    "- uid — это uid, которые существуют в тесте\n",
    "- avg_diff — это средняя разница между первым коммитом и крайним сроком выполнения лабораторных работ на пользователя.\n",
    "- просмотры страниц — это количество посещений новостной ленты на одного пользователя\n",
    "- не принимайте во внимание лабораторную работу «проект1»\n",
    "- сохраните его в dataframe views_diff\n",
    "- используйте метод Pandas corr() для расчета коэффициента корреляции между количеством просмотров страниц и разницей"
   ]
  },
  {
   "cell_type": "code",
   "execution_count": 86,
   "id": "400fb32e-f8c7-435a-acef-9ce2dce46051",
   "metadata": {},
   "outputs": [
    {
     "name": "stdout",
     "output_type": "stream",
     "text": [
      "Таблица с uid, avg_diff и pageviews:\n",
      "        uid    avg_diff  pageviews\n",
      "0    user_1   65.119644          5\n",
      "1   user_10   75.242310          5\n",
      "2   user_14  159.568696          3\n",
      "3   user_17   62.207514          5\n",
      "4   user_18    6.367907          3\n",
      "5   user_19   99.440298          4\n",
      "6   user_21   96.111042          4\n",
      "7   user_25   93.474751          5\n",
      "8   user_28   86.793652          5\n",
      "9    user_3  105.738041          5\n",
      "10  user_30  145.528546          4\n",
      "Коэффициент корреляции между avg_diff и pageviews:\n",
      "           avg_diff  pageviews\n",
      "avg_diff   1.000000  -0.118374\n",
      "pageviews -0.118374   1.000000\n"
     ]
    }
   ],
   "source": [
    "query = \"\"\"\n",
    "SELECT\n",
    "    test.uid,\n",
    "    AVG((julianday(datetime(deadlines.deadlines, 'unixepoch')) - julianday(test.first_commit_ts)) * 24) AS avg_diff,\n",
    "    COUNT(test.first_view_ts) AS pageviews\n",
    "FROM\n",
    "    test\n",
    "JOIN\n",
    "    deadlines ON test.labname = deadlines.labs\n",
    "WHERE\n",
    "    deadlines.labs != 'project1'\n",
    "    AND test.first_commit_ts IS NOT NULL\n",
    "    AND deadlines.deadlines IS NOT NULL\n",
    "    AND test.uid LIKE 'user_%'\n",
    "GROUP BY\n",
    "    test.uid;\n",
    "\"\"\"\n",
    "views_diff = pd.read_sql_query(query, conn)\n",
    "\n",
    "# Вывод таблицы с uid, avg_diff и pageviews\n",
    "print(\"Таблица с uid, avg_diff и pageviews:\")\n",
    "print(views_diff)\n",
    "\n",
    "# Расчет коэффициента корреляции между avg_diff и pageviews\n",
    "correlation = views_diff[['avg_diff', 'pageviews']].corr()\n",
    "print(\"Коэффициент корреляции между avg_diff и pageviews:\")\n",
    "print(correlation)"
   ]
  },
  {
   "cell_type": "markdown",
   "id": "8d90addb-1cf2-4df0-82db-ee7462d515ba",
   "metadata": {},
   "source": [
    "## Закрыть соединение"
   ]
  },
  {
   "cell_type": "code",
   "execution_count": 87,
   "id": "7981fc83-b3ad-4b8b-892d-a707253712df",
   "metadata": {},
   "outputs": [],
   "source": [
    "conn.close()"
   ]
  }
 ],
 "metadata": {
  "kernelspec": {
   "display_name": "Python 3 (ipykernel)",
   "language": "python",
   "name": "python3"
  },
  "language_info": {
   "codemirror_mode": {
    "name": "ipython",
    "version": 3
   },
   "file_extension": ".py",
   "mimetype": "text/x-python",
   "name": "python",
   "nbconvert_exporter": "python",
   "pygments_lexer": "ipython3",
   "version": "3.8.10"
  }
 },
 "nbformat": 4,
 "nbformat_minor": 5
}
