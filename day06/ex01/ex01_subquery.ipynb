{
 "cells": [
  {
   "cell_type": "markdown",
   "id": "ce3a456c-b57d-459e-b371-5d8724d0bf54",
   "metadata": {},
   "source": [
    "## Создаем подключение к базе данных с помощью библиотеки sqlite3"
   ]
  },
  {
   "cell_type": "code",
   "execution_count": 1,
   "id": "2fe22a85-a28a-412a-9a0d-be84b01d7a1e",
   "metadata": {},
   "outputs": [],
   "source": [
    "import pandas as pd\n",
    "import sqlite3\n",
    "\n",
    "conn = sqlite3.connect('../data/checking-logs.sqlite')"
   ]
  },
  {
   "cell_type": "markdown",
   "id": "a365cc5e-50b2-4cd1-9e82-e0b0654ed916",
   "metadata": {},
   "source": [
    "## Получить схему проверки таблицы"
   ]
  },
  {
   "cell_type": "code",
   "execution_count": 2,
   "id": "ec1d1b7a-4738-4e64-a865-fb768e0b8673",
   "metadata": {},
   "outputs": [
    {
     "name": "stdout",
     "output_type": "stream",
     "text": [
      "   cid       name       type  notnull dflt_value  pk\n",
      "0    0      index    INTEGER        0       None   0\n",
      "1    1     status       TEXT        0       None   0\n",
      "2    2    success    INTEGER        0       None   0\n",
      "3    3  timestamp  TIMESTAMP        0       None   0\n",
      "4    4  numTrials    INTEGER        0       None   0\n",
      "5    5    labname       TEXT        0       None   0\n",
      "6    6        uid       TEXT        0       None   0\n"
     ]
    }
   ],
   "source": [
    "schema_query = \"PRAGMA table_info(checker);\"\n",
    "schema = pd.io.sql.read_sql(schema_query, conn)\n",
    "print(schema)"
   ]
  },
  {
   "cell_type": "markdown",
   "id": "8082d960-c445-49e5-9ddf-614a142cd5ea",
   "metadata": {},
   "source": [
    "## Получить только первые 10 строк таблицы checker, чтобы проверить, как выглядит таблица"
   ]
  },
  {
   "cell_type": "code",
   "execution_count": 3,
   "id": "cf04f094-97d2-4939-88f5-93f3227c3344",
   "metadata": {},
   "outputs": [
    {
     "name": "stdout",
     "output_type": "stream",
     "text": [
      "   index    status  success                   timestamp  numTrials   labname  \\\n",
      "0      0  checking        0  2020-04-16 21:12:50.740474          5      None   \n",
      "1      1     ready        0  2020-04-16 21:12:54.708365          5  code_rvw   \n",
      "2      2  checking        0  2020-04-16 21:46:47.769088          7      None   \n",
      "3      3     ready        0  2020-04-16 21:46:48.121217          7     lab02   \n",
      "4      4  checking        0  2020-04-16 21:53:01.862637          6  code_rvw   \n",
      "5      5     ready        0  2020-04-16 21:53:05.373389          6  code_rvw   \n",
      "6      6  checking        0  2020-04-17 05:18:51.965864          1      None   \n",
      "7      7     ready        0  2020-04-17 05:19:02.744528          1  project1   \n",
      "8      8  checking        0  2020-04-17 05:22:35.249331          2  project1   \n",
      "9      9     ready        1  2020-04-17 05:22:45.549397          2  project1   \n",
      "\n",
      "       uid  \n",
      "0  admin_1  \n",
      "1  admin_1  \n",
      "2  admin_1  \n",
      "3  admin_1  \n",
      "4  admin_1  \n",
      "5  admin_1  \n",
      "6     None  \n",
      "7   user_4  \n",
      "8   user_4  \n",
      "9   user_4  \n"
     ]
    }
   ],
   "source": [
    "query = \"SELECT * FROM checker LIMIT 10;\"\n",
    "first_10_rows = pd.io.sql.read_sql(query, conn)\n",
    "print(first_10_rows)"
   ]
  },
  {
   "cell_type": "markdown",
   "id": "af8cd678-7b64-43c2-802a-88703c609397",
   "metadata": {},
   "source": [
    "## Подсчитайте, сколько строк удовлетворяют следующим условиям, используя только один запрос с любым количеством подзапросов:\n",
    "**Подсчитайте строки из таблицы просмотров страниц, но только с пользователями из таблицы проверки с:**\n",
    "- status = 'ready', мы не хотим анализировать журналы, находящиеся на проверке статуса\n",
    "- numTrials = 1, мы хотим проанализировать только первые коммиты, потому что только они могут сказать нам, когда студент начал работать над лабораторной работой\n",
    "- labnames должны быть из списка: 'laba04', 'laba04s', 'laba05', 'laba06', 'laba06s', 'project1'. Только они были активны во время эксперимента\n",
    "\n",
    "**Сохранить в фрейме данных checkers со столбцом cnt**"
   ]
  },
  {
   "cell_type": "code",
   "execution_count": 4,
   "id": "d6dbcabb-4612-42fe-bb01-b2276038ac01",
   "metadata": {},
   "outputs": [
    {
     "name": "stdout",
     "output_type": "stream",
     "text": [
      "   cnt\n",
      "0  985\n"
     ]
    }
   ],
   "source": [
    "query = \"\"\"\n",
    "SELECT COUNT(*) AS cnt\n",
    "FROM pageviews\n",
    "WHERE uid IN (\n",
    "    SELECT uid\n",
    "    FROM checker\n",
    "    WHERE status = 'ready' AND numTrials = 1 AND labname IN ('laba04', 'laba04s', 'laba05', 'laba06', 'laba06s', 'project1')\n",
    ");\n",
    "\"\"\"\n",
    "checkers = pd.io.sql.read_sql(query, conn)\n",
    "print(checkers)"
   ]
  },
  {
   "cell_type": "markdown",
   "id": "3cf50729-6449-4929-9185-3f8597057e40",
   "metadata": {},
   "source": [
    "## Закрыть соединение"
   ]
  },
  {
   "cell_type": "code",
   "execution_count": 5,
   "id": "a44c32f7-3f76-485e-b71f-d4b3d6928d64",
   "metadata": {},
   "outputs": [],
   "source": [
    "conn.close()"
   ]
  }
 ],
 "metadata": {
  "kernelspec": {
   "display_name": "Python 3 (ipykernel)",
   "language": "python",
   "name": "python3"
  },
  "language_info": {
   "codemirror_mode": {
    "name": "ipython",
    "version": 3
   },
   "file_extension": ".py",
   "mimetype": "text/x-python",
   "name": "python",
   "nbconvert_exporter": "python",
   "pygments_lexer": "ipython3",
   "version": "3.8.10"
  }
 },
 "nbformat": 4,
 "nbformat_minor": 5
}
