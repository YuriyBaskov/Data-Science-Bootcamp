{
 "cells": [
  {
   "cell_type": "markdown",
   "id": "e3962b1b-175d-4799-9ad3-3bed5d6c2e3d",
   "metadata": {},
   "source": [
    "## Предварительная обработка"
   ]
  },
  {
   "cell_type": "markdown",
   "id": "77ab84da-aff1-4f03-bfae-45e9eec1c5a7",
   "metadata": {},
   "source": [
    "### 1. Загрузите и прочитайте CSV-файл и сделайте ID индексным столбцом"
   ]
  },
  {
   "cell_type": "code",
   "execution_count": 1,
   "id": "6dd3126a-e211-4e78-b25a-0aed3ec4f1f5",
   "metadata": {},
   "outputs": [
    {
     "name": "stdout",
     "output_type": "stream",
     "text": [
      "        CarNumber    Make_n_model  Refund    Fines  History\n",
      "ID                                                         \n",
      "0    Y163O8161RUS      Ford Focus     2.0   3200.0      NaN\n",
      "1     E432XX77RUS    Toyota Camry     1.0   6500.0      NaN\n",
      "2     7184TT36RUS      Ford Focus     1.0   2100.0      NaN\n",
      "3    X582HE161RUS      Ford Focus     2.0   2000.0      NaN\n",
      "4    E34877152RUS      Ford Focus     2.0   6100.0      NaN\n",
      "..            ...             ...     ...      ...      ...\n",
      "926  Y163O8161RUS      Ford Focus     2.0   1600.0      NaN\n",
      "927  M0309X197RUS      Ford Focus     1.0  22300.0      NaN\n",
      "928  O673E8197RUS      Ford Focus     2.0    600.0      NaN\n",
      "929  8610T8154RUS      Ford Focus     1.0   2000.0      NaN\n",
      "930  H419XE197RUS  Toyota Corolla     2.0      NaN      2.0\n",
      "\n",
      "[931 rows x 5 columns]\n"
     ]
    }
   ],
   "source": [
    "import pandas as pd\n",
    "\n",
    "df = pd.read_csv('../data/auto.csv', sep=',', index_col=0)\n",
    "print(df)"
   ]
  },
  {
   "cell_type": "markdown",
   "id": "7020ea2d-068a-4032-92e1-e6353a40e020",
   "metadata": {},
   "source": [
    "### 2. Подсчитать количество наблюдений с помощью метода count()"
   ]
  },
  {
   "cell_type": "code",
   "execution_count": 2,
   "id": "740f3be7-00fe-4408-aeb6-148742305dcf",
   "metadata": {},
   "outputs": [
    {
     "name": "stdout",
     "output_type": "stream",
     "text": [
      "CarNumber       931\n",
      "Make_n_model    931\n",
      "Refund          914\n",
      "Fines           869\n",
      "History          82\n",
      "dtype: int64\n"
     ]
    }
   ],
   "source": [
    "print(df.count())"
   ]
  },
  {
   "cell_type": "markdown",
   "id": "1db62b08-3049-4412-a71a-a72a0fa6351c",
   "metadata": {},
   "source": [
    "### 3. Удалить дубликаты, принимая во внимание только следующие столбцы: CarNumber, Make_n_model, Fines\n",
    "- из двух равных наблюдений нужно выбрать последнее\n",
    "- проверьте количество наблюдений еще раз"
   ]
  },
  {
   "cell_type": "code",
   "execution_count": 3,
   "id": "ce3df342-c518-4ac9-82d5-f543cb99f770",
   "metadata": {},
   "outputs": [
    {
     "name": "stdout",
     "output_type": "stream",
     "text": [
      "Количество наблюдений после удаления дубликатов: 725\n",
      "\n",
      "        CarNumber    Make_n_model  Refund    Fines  History\n",
      "ID                                                         \n",
      "0    Y163O8161RUS      Ford Focus     2.0   3200.0      NaN\n",
      "1     E432XX77RUS    Toyota Camry     1.0   6500.0      NaN\n",
      "2     7184TT36RUS      Ford Focus     1.0   2100.0      NaN\n",
      "3    X582HE161RUS      Ford Focus     2.0   2000.0      NaN\n",
      "5    92918M178RUS      Ford Focus     1.0   5700.0      NaN\n",
      "..            ...             ...     ...      ...      ...\n",
      "926  Y163O8161RUS      Ford Focus     2.0   1600.0      NaN\n",
      "927  M0309X197RUS      Ford Focus     1.0  22300.0      NaN\n",
      "928  O673E8197RUS      Ford Focus     2.0    600.0      NaN\n",
      "929  8610T8154RUS      Ford Focus     1.0   2000.0      NaN\n",
      "930  H419XE197RUS  Toyota Corolla     2.0      NaN      2.0\n",
      "\n",
      "[725 rows x 5 columns]\n"
     ]
    }
   ],
   "source": [
    "df=df.drop_duplicates(subset=['CarNumber', 'Make_n_model', 'Fines'], keep = 'last') # из двух равных последнее\n",
    "print(f\"Количество наблюдений после удаления дубликатов: {len(df)}\\n\")\n",
    "print(df)"
   ]
  },
  {
   "cell_type": "markdown",
   "id": "817a5d46-de44-49c5-8c88-209353d1980c",
   "metadata": {},
   "source": [
    "### 4. Работа с пропущенными значениями\n",
    "- проверьте, сколько значений отсутствует в каждом столбце\n",
    "- удалите все столбцы с более чем 500 пропущенными значениями, используя аргумент thresh, проверьте, сколько пропущенных значений в каждом столбце\n",
    "- замените все отсутствующие значения в столбце «Возврат» предыдущим значением в этом столбце для этой ячейки, используйте метод аргумента, проверьте, сколько значений отсутствует в каждом столбце\n",
    "- замените все отсутствующие значения в столбце «Штрафы» средним значением этого столбца (исключите значения NA/NULL при вычислении среднего значения), проверьте, сколько значений отсутствует в каждом столбце"
   ]
  },
  {
   "cell_type": "code",
   "execution_count": 4,
   "id": "8a7ca83b-6194-43ab-a1ca-d57f00bf23ff",
   "metadata": {},
   "outputs": [
    {
     "name": "stdout",
     "output_type": "stream",
     "text": [
      "Количество отсутствующих значений в каждом столбце: \n",
      "ID                0\n",
      "CarNumber         0\n",
      "Make_n_model      0\n",
      "Refund           17\n",
      "Fines            62\n",
      "History         849\n",
      "dtype: int64\n",
      "\n",
      "Количество отсутствующих значений после удаления столбцов, где меньше 500 значений: \n",
      "ID               0\n",
      "CarNumber        0\n",
      "Make_n_model     0\n",
      "Refund          17\n",
      "Fines           62\n",
      "dtype: int64\n",
      "\n",
      "Количество отсутствующих значений после замены в Refund: \n",
      "ID               0\n",
      "CarNumber        0\n",
      "Make_n_model     0\n",
      "Refund           0\n",
      "Fines           62\n",
      "dtype: int64\n",
      "\n",
      "А теперь каждому по штрафу:\n",
      "Количество отсутствующих значений после замены в Fines: \n",
      "ID              0\n",
      "CarNumber       0\n",
      "Make_n_model    0\n",
      "Refund          0\n",
      "Fines           0\n",
      "dtype: int64\n",
      "\n"
     ]
    }
   ],
   "source": [
    "df = pd.read_csv('../data/auto.csv', na_values=[''])\n",
    "missing_values = df.isna().sum()\n",
    "print(f\"Количество отсутствующих значений в каждом столбце: \\n{missing_values}\\n\")\n",
    "\n",
    "df = df.dropna(thresh=len(df) - 500, axis=1) # удаляем все столбцы с более чем 500 пропущенными значениями\n",
    "# dropna() - метод pandas, который используется для удаления строк или столбцов с пропущенными значениями.\n",
    "# thresh указывает минимальное количество ненулевых значений, которое должно быть в строке или столбце, чтобы она/он не был удален. \n",
    "# В данном случае thresh=len(df) - 500 означает, что столбец будет удален, если в нем более 500 пропущенных значений.\n",
    "# axis=1 указывает, что операция должна применяться к столбцам.\n",
    "missing_values_after_drop = df.isna().sum()\n",
    "print(f\"Количество отсутствующих значений после удаления столбцов, где меньше 500 значений: \\n{missing_values_after_drop}\\n\")\n",
    "\n",
    "df['Refund'] = df['Refund'].ffill()\n",
    "missing_values_after_refund_fill = df.isna().sum()\n",
    "print(f\"Количество отсутствующих значений после замены в Refund: \\n{missing_values_after_refund_fill}\\n\")\n",
    "\n",
    "df['Fines'] = df['Fines'].fillna(df['Fines'].mean())\n",
    "missing_values_after_fines_fill = df.isna().sum()\n",
    "print(f\"А теперь каждому по штрафу:\\nКоличество отсутствующих значений после замены в Fines: \\n{missing_values_after_fines_fill}\\n\")\n",
    "\n",
    "\n"
   ]
  },
  {
   "cell_type": "markdown",
   "id": "b2e396cb-c5cf-4f02-83be-73110d7d8622",
   "metadata": {},
   "source": [
    "### 5.Разделите и проанализируйте марку и модель\n",
    "- используйте метод apply как для разделения, так и для извлечения значений в новые столбцы Марка и Модель\n",
    "- удалить столбец Make_n_model\n",
    "- сохраните фрейм данных в JSON-файле auto.json"
   ]
  },
  {
   "cell_type": "code",
   "execution_count": 5,
   "id": "692d9b01-b5a4-4015-9ced-08cd0eac36e5",
   "metadata": {},
   "outputs": [
    {
     "name": "stdout",
     "output_type": "stream",
     "text": [
      "Данные разделены по маркам и моделям авто и сохранены в auto.json\n"
     ]
    }
   ],
   "source": [
    "# apply() применяет функцию ко всем элементам столбца\n",
    "df['Make'] = df['Make_n_model'].apply(lambda x: x.split(' ')[0])\n",
    "df['Model'] = df['Make_n_model'].apply(lambda x: ' '.join(x.split(' ')[1:]))\n",
    "df = df.drop(columns=['Make_n_model'])\n",
    "df = df[['CarNumber', 'Refund', 'Fines', 'Make', 'Model']]\n",
    "df.to_json('../data/auto.json', orient='records', indent=4)\n",
    "\n",
    "print(\"Данные разделены по маркам и моделям авто и сохранены в auto.json\")"
   ]
  },
  {
   "cell_type": "code",
   "execution_count": 2,
   "id": "5ab78752-666c-4b56-b16f-aa2cbae533f1",
   "metadata": {},
   "outputs": [
    {
     "ename": "NameError",
     "evalue": "name 'df' is not defined",
     "output_type": "error",
     "traceback": [
      "\u001b[0;31m---------------------------------------------------------------------------\u001b[0m",
      "\u001b[0;31mNameError\u001b[0m                                 Traceback (most recent call last)",
      "Cell \u001b[0;32mIn[2], line 1\u001b[0m\n\u001b[0;32m----> 1\u001b[0m \u001b[43mdf\u001b[49m[\u001b[38;5;124m'\u001b[39m\u001b[38;5;124mFines\u001b[39m\u001b[38;5;124m'\u001b[39m]\u001b[38;5;241m.\u001b[39mmean()\n",
      "\u001b[0;31mNameError\u001b[0m: name 'df' is not defined"
     ]
    }
   ],
   "source": [
    "df['Fines'].mean()"
   ]
  },
  {
   "cell_type": "code",
   "execution_count": null,
   "id": "7e052f9b-035f-4139-89d9-24a84a20fbd4",
   "metadata": {},
   "outputs": [],
   "source": []
  }
 ],
 "metadata": {
  "kernelspec": {
   "display_name": "Python 3 (ipykernel)",
   "language": "python",
   "name": "python3"
  },
  "language_info": {
   "codemirror_mode": {
    "name": "ipython",
    "version": 3
   },
   "file_extension": ".py",
   "mimetype": "text/x-python",
   "name": "python",
   "nbconvert_exporter": "python",
   "pygments_lexer": "ipython3",
   "version": "3.8.10"
  }
 },
 "nbformat": 4,
 "nbformat_minor": 5
}
