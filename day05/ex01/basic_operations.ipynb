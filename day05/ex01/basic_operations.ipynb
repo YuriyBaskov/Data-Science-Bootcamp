{
 "cells": [
  {
   "cell_type": "markdown",
   "id": "9c6bd408-2d65-4743-998b-b07954e18dee",
   "metadata": {},
   "source": [
    "## В этом упражнении вы будете работать с единым журналом пользователей, посетивших страницу, включая их временные метки."
   ]
  },
  {
   "cell_type": "markdown",
   "id": "fe6973cf-adbc-4b09-bee1-eec7e028747a",
   "metadata": {},
   "source": [
    "-------------------------------------------------------------------------------------------------------------------------------"
   ]
  },
  {
   "cell_type": "markdown",
   "id": "73c50ada-899a-4168-8c6f-cb346f654f51",
   "metadata": {},
   "source": [
    "### 1. Создать представления dataframe с двумя столбцами: datetime и user, прочитав feed-views.log\n",
    "- преобразовать дату и время в тип datetime64[ns]\n",
    "- извлечь год, месяц, день, час, минуту и секунду из значений этого столбца в новые столбцы"
   ]
  },
  {
   "cell_type": "code",
   "execution_count": 1,
   "id": "82b1d39b-8047-41d3-a222-a6e985347a5d",
   "metadata": {},
   "outputs": [
    {
     "name": "stdout",
     "output_type": "stream",
     "text": [
      "                       datetime       user  year  month  day  hour  minute  \\\n",
      "0    2020-04-17 12:01:08.463179      artem  2020      4   17    12       1   \n",
      "1    2020-04-17 12:01:23.743946      artem  2020      4   17    12       1   \n",
      "2    2020-04-17 12:27:30.646665      artem  2020      4   17    12      27   \n",
      "3    2020-04-17 12:35:44.884757      artem  2020      4   17    12      35   \n",
      "4    2020-04-17 12:35:52.735016      artem  2020      4   17    12      35   \n",
      "...                         ...        ...   ...    ...  ...   ...     ...   \n",
      "1071 2020-05-21 18:45:20.441142  valentina  2020      5   21    18      45   \n",
      "1072 2020-05-21 23:03:06.457819      maxim  2020      5   21    23       3   \n",
      "1073 2020-05-21 23:23:49.995349      pavel  2020      5   21    23      23   \n",
      "1074 2020-05-21 23:49:22.386789      artem  2020      5   21    23      49   \n",
      "1075 2020-05-22 10:36:14.662600      artem  2020      5   22    10      36   \n",
      "\n",
      "      second  \n",
      "0          8  \n",
      "1         23  \n",
      "2         30  \n",
      "3         44  \n",
      "4         52  \n",
      "...      ...  \n",
      "1071      20  \n",
      "1072       6  \n",
      "1073      49  \n",
      "1074      22  \n",
      "1075      14  \n",
      "\n",
      "[1076 rows x 8 columns]\n"
     ]
    }
   ],
   "source": [
    "import pandas as pd\n",
    "\n",
    "df = pd.read_csv('../data/feed-views.log', sep='\\t', names=['datetime', 'user'])\n",
    "\n",
    "df['datetime'] = pd.to_datetime(df['datetime'])\n",
    "\n",
    "df['year'] = df['datetime'].dt.year\n",
    "df['month'] = df['datetime'].dt.month\n",
    "df['day'] = df['datetime'].dt.day\n",
    "df['hour'] = df['datetime'].dt.hour\n",
    "df['minute'] = df['datetime'].dt.minute\n",
    "df['second'] = df['datetime'].dt.second\n",
    "\n",
    "print(df)"
   ]
  },
  {
   "cell_type": "markdown",
   "id": "f170256f-ba14-4d8f-8067-6ecd6deadba7",
   "metadata": {},
   "source": [
    "### 2. Cоздать новую колонку дневное время\n",
    "- вам необходимо присвоить конкретное значение времени суток, если час находится в определенном интервале, например, полдень, если час больше 11 и меньше или равен 17\n",
    "- 0 – 3.59 ночь, 4 – 6.59 раннее утро, 7 – 10.59 утро, 11 – 16.59 день, 17 – 19.59 ранний вечер, 20 – 23.59 вечер\n",
    "- используйте метод cut для решения этой подзадачи\n",
    "- назначить столбец user в качестве индекса"
   ]
  },
  {
   "cell_type": "code",
   "execution_count": 2,
   "id": "78f9cc98-63d6-49fd-b3cc-de67a94dcf72",
   "metadata": {},
   "outputs": [
    {
     "name": "stdout",
     "output_type": "stream",
     "text": [
      "                            datetime  year  month  day  hour  minute  second  \\\n",
      "user                                                                           \n",
      "artem     2020-04-17 12:01:08.463179  2020      4   17    12       1       8   \n",
      "artem     2020-04-17 12:01:23.743946  2020      4   17    12       1      23   \n",
      "artem     2020-04-17 12:27:30.646665  2020      4   17    12      27      30   \n",
      "artem     2020-04-17 12:35:44.884757  2020      4   17    12      35      44   \n",
      "artem     2020-04-17 12:35:52.735016  2020      4   17    12      35      52   \n",
      "...                              ...   ...    ...  ...   ...     ...     ...   \n",
      "valentina 2020-05-21 18:45:20.441142  2020      5   21    18      45      20   \n",
      "maxim     2020-05-21 23:03:06.457819  2020      5   21    23       3       6   \n",
      "pavel     2020-05-21 23:23:49.995349  2020      5   21    23      23      49   \n",
      "artem     2020-05-21 23:49:22.386789  2020      5   21    23      49      22   \n",
      "artem     2020-05-22 10:36:14.662600  2020      5   22    10      36      14   \n",
      "\n",
      "                 daytime  \n",
      "user                      \n",
      "artem          afternoon  \n",
      "artem          afternoon  \n",
      "artem          afternoon  \n",
      "artem          afternoon  \n",
      "artem          afternoon  \n",
      "...                  ...  \n",
      "valentina  early evening  \n",
      "maxim            evening  \n",
      "pavel            evening  \n",
      "artem            evening  \n",
      "artem            morning  \n",
      "\n",
      "[1076 rows x 8 columns]\n"
     ]
    }
   ],
   "source": [
    "bins = [0, 4, 7, 11, 17, 20, 24]\n",
    "labels = ['night', 'early morning', 'morning', 'afternoon', 'early evening', 'evening']\n",
    "df['daytime'] = pd.cut(df['hour'], bins=bins, labels=labels, right=True)\n",
    "\n",
    "df.set_index('user', inplace=True)\n",
    "\n",
    "print(df)\n"
   ]
  },
  {
   "cell_type": "markdown",
   "id": "ab62ca7a-7125-4ed5-a3d8-dae2cf8e1840",
   "metadata": {},
   "source": [
    "### 3. Подсчитать количество элементов в вашем фрейме данных\n",
    "- используйте метод count()\n",
    "- подсчитать количество элементов в каждой категории времени суток, используя метод value_counts()"
   ]
  },
  {
   "cell_type": "code",
   "execution_count": 3,
   "id": "b15a6a23-5b8e-46a9-9177-cad959054e4b",
   "metadata": {},
   "outputs": [
    {
     "name": "stdout",
     "output_type": "stream",
     "text": [
      "8608\n",
      "daytime\n",
      "evening          445\n",
      "afternoon        279\n",
      "early evening    144\n",
      "morning           74\n",
      "night             69\n",
      "early morning      0\n",
      "Name: count, dtype: int64\n"
     ]
    }
   ],
   "source": [
    "print(df.size) # считаем элементы\n",
    "print(df['daytime'].value_counts()) # в каждой категории времени суток"
   ]
  },
  {
   "cell_type": "markdown",
   "id": "1b88fe8b-845d-422c-ba82-0a30b2ef9090",
   "metadata": {},
   "source": [
    "### 4. Сортировать значения в вашем фрейме данных по часам, минутам и секундам в порядке возрастания (одновременно, а не по одному)"
   ]
  },
  {
   "cell_type": "code",
   "execution_count": 4,
   "id": "f498a18d-01b5-4833-b927-a9364d413850",
   "metadata": {},
   "outputs": [
    {
     "name": "stdout",
     "output_type": "stream",
     "text": [
      "                            datetime  year  month  day  hour  minute  second  \\\n",
      "user                                                                           \n",
      "valentina 2020-05-15 00:00:13.222265  2020      5   15     0       0      13   \n",
      "valentina 2020-05-15 00:01:05.153738  2020      5   15     0       1       5   \n",
      "pavel     2020-05-12 00:01:27.764025  2020      5   12     0       1      27   \n",
      "pavel     2020-05-12 00:01:38.444917  2020      5   12     0       1      38   \n",
      "pavel     2020-05-12 00:01:55.395042  2020      5   12     0       1      55   \n",
      "...                              ...   ...    ...  ...   ...     ...     ...   \n",
      "artem     2020-05-21 23:49:22.386789  2020      5   21    23      49      22   \n",
      "anatoliy  2020-05-09 23:53:55.599821  2020      5    9    23      53      55   \n",
      "pavel     2020-05-09 23:54:54.260791  2020      5    9    23      54      54   \n",
      "valentina 2020-05-14 23:58:56.754866  2020      5   14    23      58      56   \n",
      "alexander 2020-05-14 23:59:38.758438  2020      5   14    23      59      38   \n",
      "\n",
      "           daytime  \n",
      "user                \n",
      "valentina      NaN  \n",
      "valentina      NaN  \n",
      "pavel          NaN  \n",
      "pavel          NaN  \n",
      "pavel          NaN  \n",
      "...            ...  \n",
      "artem      evening  \n",
      "anatoliy   evening  \n",
      "pavel      evening  \n",
      "valentina  evening  \n",
      "alexander  evening  \n",
      "\n",
      "[1076 rows x 8 columns]\n"
     ]
    }
   ],
   "source": [
    "print(df.sort_values(by=['hour', 'minute', 'second']))"
   ]
  },
  {
   "cell_type": "markdown",
   "id": "76eb7be7-f85d-4de8-8728-69516343f542",
   "metadata": {},
   "source": [
    "### 5. Рассчитать минимум и максимум для часов и режим для дневных категорий\n",
    "- вычислить максимум часа для строк, где время суток — ночь\n",
    "- вычислить минимум часа для строк, где время суток — утро\n",
    "- В дополнение к этому, выясните, кто посещал страницу в эти часы (приведите один пример из этого)\n",
    "- рассчитать мод на час и день"
   ]
  },
  {
   "cell_type": "code",
   "execution_count": 5,
   "id": "edab6c08-2f24-41a7-aff2-c8dd2a36f8cd",
   "metadata": {},
   "outputs": [
    {
     "name": "stdout",
     "output_type": "stream",
     "text": [
      "Максимальный час ночью: 4, Пример юзера: konstantin\n",
      "Минимальный час утром: 8, Пример юзера: alexander\n",
      "Наиболее часто встречающийся час: 22\n",
      "Наиболее часто встречающееся время суток: evening\n"
     ]
    }
   ],
   "source": [
    "max_hour = df[df['daytime'] == 'night']['hour'].max()\n",
    "min_hour = df[df['daytime'] == 'morning']['hour'].min()\n",
    "print(f\"Максимальный час ночью: {max_hour}, Пример юзера: {df[(df['daytime'] == 'night') & (df['hour'] == max_hour)].index.tolist()[0]}\")\n",
    "print(f\"Минимальный час утром: {min_hour}, Пример юзера: {df[(df['daytime'] == 'morning') & (df['hour'] == min_hour)].index.tolist()[0]}\")\n",
    "\n",
    "print(f\"Наиболее часто встречающийся час: {df['hour'].mode()[0]}\")\n",
    "print(f\"Наиболее часто встречающееся время суток: {df['daytime'].mode()[0]}\")"
   ]
  },
  {
   "cell_type": "markdown",
   "id": "6ea67c63-5727-4c08-837b-fe1313bd89fc",
   "metadata": {},
   "source": [
    "### 6. Показать 3 самых ранних часа утра и соответствующие им имена пользователей, а также 3 самых поздних часа и имена пользователей с помощью nsmallest() и nlargest()"
   ]
  },
  {
   "cell_type": "code",
   "execution_count": 6,
   "id": "814a7b05-8612-4a0c-a98b-9f5b48990ce7",
   "metadata": {},
   "outputs": [
    {
     "name": "stdout",
     "output_type": "stream",
     "text": [
      "Три самых ранних часа утра и юзеры: \n",
      "\n",
      "                            datetime  year  month  day  hour  minute  second  \\\n",
      "user                                                                           \n",
      "alexander 2020-05-15 08:16:03.918402  2020      5   15     8      16       3   \n",
      "alexander 2020-05-15 08:35:01.471463  2020      5   15     8      35       1   \n",
      "artem     2020-04-24 09:42:47.598208  2020      4   24     9      42      47   \n",
      "\n",
      "           daytime  \n",
      "user                \n",
      "alexander  morning  \n",
      "alexander  morning  \n",
      "artem      morning  \n",
      "\n",
      "\n",
      "\n",
      "Три самых поздних часа и юзеры: \n",
      "\n",
      "                             datetime  year  month  day  hour  minute  second  \\\n",
      "user                                                                            \n",
      "konstantin 2020-04-18 23:06:34.198911  2020      4   18    23       6      34   \n",
      "artem      2020-04-18 23:40:32.666884  2020      4   18    23      40      32   \n",
      "artem      2020-04-19 23:10:03.761243  2020      4   19    23      10       3   \n",
      "\n",
      "            daytime  \n",
      "user                 \n",
      "konstantin  evening  \n",
      "artem       evening  \n",
      "artem       evening  \n"
     ]
    }
   ],
   "source": [
    "print(f\"Три самых ранних часа утра и юзеры: \\n\\n{df[df['daytime'] == 'morning'].nsmallest(3, 'hour')}\\n\\n\\n\")\n",
    "print(f\"Три самых поздних часа и юзеры: \\n\\n{df.nlargest(3, 'hour')}\")"
   ]
  },
  {
   "cell_type": "markdown",
   "id": "b5a068b5-13e6-4dea-b19d-febdbf72803e",
   "metadata": {},
   "source": [
    "### 7. Использовать метод describe() для получения базовой статистики по столбцам\n",
    "- чтобы узнать, какой интервал посещения страницы является наиболее популярным, рассчитайте межквартильный размах для часа, извлекая значения из результата метода describe() и сохраняя его в переменной iqr"
   ]
  },
  {
   "cell_type": "code",
   "execution_count": 7,
   "id": "da645496-bf28-4852-a4a5-22bda7903598",
   "metadata": {},
   "outputs": [
    {
     "name": "stdout",
     "output_type": "stream",
     "text": [
      "9.0\n"
     ]
    }
   ],
   "source": [
    "description = df.describe()\n",
    "iqr = description.loc['75%', 'hour'] - description.loc['25%', 'hour']\n",
    "# Третий квартиль — это значение, ниже которого находится 75% данных, Первый квартиль — это значение, ниже которого находится 25% данных.\n",
    "# Межквартильный размах (IQR) — это разница между третьим и первым квартилями. \n",
    "# Он используется как мера статистической дисперсии и показывает диапазон, в котором находится 50% центральных данных.\n",
    "# Настолько разбросаны значения часов в наборе данных:\n",
    "print(iqr)"
   ]
  },
  {
   "cell_type": "code",
   "execution_count": null,
   "id": "1f09c843-a186-41b9-87ff-45c43a16e65d",
   "metadata": {},
   "outputs": [],
   "source": [
    "views.hour_mod"
   ]
  }
 ],
 "metadata": {
  "kernelspec": {
   "display_name": "Python 3 (ipykernel)",
   "language": "python",
   "name": "python3"
  },
  "language_info": {
   "codemirror_mode": {
    "name": "ipython",
    "version": 3
   },
   "file_extension": ".py",
   "mimetype": "text/x-python",
   "name": "python",
   "nbconvert_exporter": "python",
   "pygments_lexer": "ipython3",
   "version": "3.8.10"
  }
 },
 "nbformat": 4,
 "nbformat_minor": 5
}
