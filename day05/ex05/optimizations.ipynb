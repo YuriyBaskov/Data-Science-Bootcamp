{
 "cells": [
  {
   "cell_type": "markdown",
   "id": "e68c7a67-f390-43d6-896e-52bdafd70cb5",
   "metadata": {},
   "source": [
    "## Оптимизация Pandas"
   ]
  },
  {
   "cell_type": "markdown",
   "id": "d6847e51-7f3c-4db6-969f-081c8fb8999e",
   "metadata": {},
   "source": [
    "**Прочитайте файл fines.csv, который вы сохранили в предыдущем упражнении**"
   ]
  },
  {
   "cell_type": "code",
   "execution_count": 1,
   "id": "9b5e7b99-e0c4-48b8-b69a-dfdc9ac5e4ce",
   "metadata": {},
   "outputs": [
    {
     "name": "stdout",
     "output_type": "stream",
     "text": [
      "         CarNumber  Refund    Fines        Make    Model    Year\n",
      "0     Y163O8161RUS       2   3200.0        Ford    Focus  1989.0\n",
      "1      E432XX77RUS       1   6500.0      Toyota    Camry  1995.0\n",
      "2      7184TT36RUS       1   2100.0        Ford    Focus  1984.0\n",
      "3     X582HE161RUS       2   2000.0        Ford    Focus  2015.0\n",
      "4     E34877152RUS       2   6100.0        Ford    Focus  2014.0\n",
      "...            ...     ...      ...         ...      ...     ...\n",
      "1131  1111C8197RUS       2    500.0      Toyota  Corolla  2007.0\n",
      "1132  2222C8197RUS       1    100.0        Ford    Focus  1997.0\n",
      "1133   33339Y50RUS       2  10100.0  Volkswagen     Golf  1984.0\n",
      "1134  4444MM116RUS       1   2400.0       Skoda  Octavia  2017.0\n",
      "1135  5555M7161RUS       2   7800.0      Porshe      911  2077.0\n",
      "\n",
      "[1136 rows x 6 columns]\n"
     ]
    }
   ],
   "source": [
    "import pandas as pd\n",
    "\n",
    "fines = pd.read_csv('../data/fines.csv')\n",
    "print(fines)"
   ]
  },
  {
   "cell_type": "markdown",
   "id": "a81c72e7-7bce-43f3-be8b-1a489bf1b070",
   "metadata": {},
   "source": [
    "**Итерации: во всех следующих подзадачах необходимо рассчитать штрафы/возврат*год для каждой строки и создать новый столбец с рассчитанными данными и измерить время с помощью магической команды %%timeit в ячейке**\n",
    "- цикл: написать функцию, которая проходит по фрейму данных, используя for i in range(0, len(df)), iloc и append() к списку, присвоить результат функции новому столбцу в фрейме данных"
   ]
  },
  {
   "cell_type": "code",
   "execution_count": 2,
   "id": "33b06a13-6b49-4bf3-825e-c2d8489bc47a",
   "metadata": {},
   "outputs": [
    {
     "name": "stdout",
     "output_type": "stream",
     "text": [
      "30.5 ms ± 1.74 ms per loop (mean ± std. dev. of 7 runs, 10 loops each)\n"
     ]
    }
   ],
   "source": [
    "%%timeit\n",
    "def loopfunc(df):\n",
    "    calc = []\n",
    "    for i in range(0, len(df)):\n",
    "        calc.append(df['Fines'].iloc[i]/df['Refund'].iloc[i]*df['Year'].iloc[i])\n",
    "    df['calc'] = calc\n",
    "    \n",
    "loopfunc(fines)"
   ]
  },
  {
   "cell_type": "markdown",
   "id": "77a1345c-2953-4a12-8203-07ab9dd5fc1d",
   "metadata": {},
   "source": [
    "- сделайте это с помощью iterrows()"
   ]
  },
  {
   "cell_type": "code",
   "execution_count": 3,
   "id": "e53d28f8-092c-4585-8a6f-435b8a486a0a",
   "metadata": {},
   "outputs": [
    {
     "name": "stdout",
     "output_type": "stream",
     "text": [
      "71.9 ms ± 15.6 ms per loop (mean ± std. dev. of 7 runs, 10 loops each)\n"
     ]
    }
   ],
   "source": [
    "%%timeit\n",
    "def iterrows_func(df):\n",
    "    calc = []\n",
    "    for index, row in df.iterrows():\n",
    "        calc.append(row['Fines'] / row['Refund'] * row['Year'])\n",
    "    df['calc'] = calc\n",
    "    \n",
    "iterrows_func(fines)"
   ]
  },
  {
   "cell_type": "markdown",
   "id": "67242619-0e8e-469c-bca6-ae74243ee191",
   "metadata": {},
   "source": [
    "- сделайте это с помощью apply() и лямбда-функции"
   ]
  },
  {
   "cell_type": "code",
   "execution_count": 4,
   "id": "eba7a627-d5d4-4857-94db-a2fde31dfdca",
   "metadata": {},
   "outputs": [
    {
     "name": "stdout",
     "output_type": "stream",
     "text": [
      "8.79 ms ± 511 µs per loop (mean ± std. dev. of 7 runs, 100 loops each)\n"
     ]
    }
   ],
   "source": [
    "%%timeit\n",
    "def apply_func(df):\n",
    "    return df.apply(lambda row: row['Fines'] / row['Refund'] * row['Year'], axis=1)\n",
    "    \n",
    "fines['calc'] = apply_func(fines)"
   ]
  },
  {
   "cell_type": "markdown",
   "id": "189b6300-4437-45db-a83a-ec39f8ac0e6d",
   "metadata": {},
   "source": [
    "- сделать это с помощью объектов Series из фрейма данных"
   ]
  },
  {
   "cell_type": "code",
   "execution_count": 5,
   "id": "a23a6380-9d41-42a3-8a69-a5933e8b225c",
   "metadata": {},
   "outputs": [
    {
     "name": "stdout",
     "output_type": "stream",
     "text": [
      "263 µs ± 12.4 µs per loop (mean ± std. dev. of 7 runs, 1,000 loops each)\n"
     ]
    }
   ],
   "source": [
    "%%timeit\n",
    "def series_func(df):\n",
    "    return df['Fines'] / df['Refund'] * df['Year']\n",
    "    \n",
    "fines['calc'] = series_func(fines)"
   ]
  },
  {
   "cell_type": "markdown",
   "id": "d444c4a6-193b-487c-a3c3-e75866e8799f",
   "metadata": {},
   "source": [
    "- сделать как в предыдущей подзадаче но с методом .values"
   ]
  },
  {
   "cell_type": "code",
   "execution_count": 6,
   "id": "8c7ed6f8-6d0a-4399-b86c-707126f61d9f",
   "metadata": {},
   "outputs": [
    {
     "name": "stdout",
     "output_type": "stream",
     "text": [
      "97.6 µs ± 4.65 µs per loop (mean ± std. dev. of 7 runs, 10,000 loops each)\n"
     ]
    }
   ],
   "source": [
    "%%timeit\n",
    "def series_func(df):\n",
    "    return df['Fines'].values / df['Refund'].values * df['Year'].values\n",
    "    \n",
    "fines['calc'] = series_func(fines)"
   ]
  },
  {
   "cell_type": "markdown",
   "id": "42d6089e-0caa-4987-8163-2bc5d4814496",
   "metadata": {},
   "source": [
    "**Индексация: измерьте время с помощью магической команды %%timeit в ячейке**\n",
    "- получить строку для определенного номера автомобиля, например, «O136HO197RUS»"
   ]
  },
  {
   "cell_type": "code",
   "execution_count": 7,
   "id": "fe64b1d8-5fdf-4e97-9ed6-7fb2d4d9cc66",
   "metadata": {},
   "outputs": [
    {
     "name": "stdout",
     "output_type": "stream",
     "text": [
      "296 µs ± 16.6 µs per loop (mean ± std. dev. of 7 runs, 1,000 loops each)\n"
     ]
    }
   ],
   "source": [
    "%%timeit\n",
    "car_row = fines[fines['CarNumber'] == 'O136HO197RUS']"
   ]
  },
  {
   "cell_type": "markdown",
   "id": "e66a6a27-7797-4d09-8d9e-10aaa8da76c6",
   "metadata": {},
   "source": [
    "- установите индекс в вашем фрейме данных с помощью CarNumber"
   ]
  },
  {
   "cell_type": "code",
   "execution_count": 8,
   "id": "14b78512-8379-4116-a7c8-d13d57978d2f",
   "metadata": {},
   "outputs": [],
   "source": [
    "fines.set_index('CarNumber', inplace=True)"
   ]
  },
  {
   "cell_type": "markdown",
   "id": "cdacab67-a72a-4198-882c-e12b86f9b292",
   "metadata": {},
   "source": [
    "- снова, получив индекс для того же CarNumber"
   ]
  },
  {
   "cell_type": "code",
   "execution_count": 9,
   "id": "0e96172c-b8db-4e51-8016-e7187e6964bb",
   "metadata": {},
   "outputs": [
    {
     "name": "stdout",
     "output_type": "stream",
     "text": [
      "74.4 µs ± 4.43 µs per loop (mean ± std. dev. of 7 runs, 10,000 loops each)\n"
     ]
    }
   ],
   "source": [
    "%%timeit\n",
    "index_car_row = fines.loc['O136HO197RUS']"
   ]
  },
  {
   "cell_type": "markdown",
   "id": "65774c7b-b155-4388-b939-85b253068f15",
   "metadata": {},
   "source": [
    "**Нисходящее:**\n",
    "- запустите df.info(memory_usage='deep'), обратите внимание на Dtype и использование памяти\n",
    "- сделайте копию() вашего исходного фрейма данных в другой оптимизированный фрейм данных\n",
    "\n",
    "\n",
    "  **Категории:**\n",
    " - измените столбцы типа объекта на категорию типа.\n",
    " - На этот раз проверьте использование памяти, возможно оно уменьшилось в 2-3 раза\n",
    " по сравнению с исходным кадром данных"
   ]
  },
  {
   "cell_type": "code",
   "execution_count": 10,
   "id": "03a86260-a6f0-49cd-a746-6de6123448c6",
   "metadata": {},
   "outputs": [
    {
     "name": "stdout",
     "output_type": "stream",
     "text": [
      "<class 'pandas.core.frame.DataFrame'>\n",
      "Index: 1136 entries, Y163O8161RUS to 5555M7161RUS\n",
      "Data columns (total 6 columns):\n",
      " #   Column  Non-Null Count  Dtype  \n",
      "---  ------  --------------  -----  \n",
      " 0   Refund  1136 non-null   int64  \n",
      " 1   Fines   1136 non-null   float64\n",
      " 2   Make    1136 non-null   object \n",
      " 3   Model   1122 non-null   object \n",
      " 4   Year    930 non-null    float64\n",
      " 5   calc    930 non-null    float64\n",
      "dtypes: float64(3), int64(1), object(2)\n",
      "memory usage: 281.0 KB\n"
     ]
    }
   ],
   "source": [
    "fines.info(memory_usage='deep')"
   ]
  },
  {
   "cell_type": "code",
   "execution_count": 11,
   "id": "8809e93e-755c-4d43-98dd-137772ee7990",
   "metadata": {},
   "outputs": [
    {
     "name": "stdout",
     "output_type": "stream",
     "text": [
      "<class 'pandas.core.frame.DataFrame'>\n",
      "Index: 1136 entries, Y163O8161RUS to 5555M7161RUS\n",
      "Data columns (total 6 columns):\n",
      " #   Column  Non-Null Count  Dtype   \n",
      "---  ------  --------------  -----   \n",
      " 0   Refund  1136 non-null   int8    \n",
      " 1   Fines   1136 non-null   float32 \n",
      " 2   Make    1136 non-null   category\n",
      " 3   Model   1122 non-null   category\n",
      " 4   Year    930 non-null    float32 \n",
      " 5   calc    930 non-null    float32 \n",
      "dtypes: category(2), float32(3), int8(1)\n",
      "memory usage: 127.0 KB\n",
      "None\n"
     ]
    }
   ],
   "source": [
    "optimize_fines = fines.copy()\n",
    "optimize_fines['Refund'] = pd.to_numeric(optimize_fines['Refund'], downcast='integer')\n",
    "optimize_fines['Make'] = optimize_fines['Make'].astype('category')\n",
    "optimize_fines['Model'] = optimize_fines['Model'].astype('category')\n",
    "optimize_fines['Fines'] = optimize_fines['Fines'].astype('float32')\n",
    "optimize_fines['Year'] = optimize_fines['Year'].astype('float32')\n",
    "optimize_fines['calc'] = optimize_fines['calc'].astype('float32')\n",
    "\n",
    "# сделали меньше, поменяв типы\n",
    "\n",
    "print(optimize_fines.info(memory_usage='deep'))"
   ]
  },
  {
   "cell_type": "markdown",
   "id": "99650b91-5cf6-4d28-9250-cd6308728f55",
   "metadata": {},
   "source": [
    " **Очистка памяти**\n",
    " - С помощью %reset_selective и библиотеки gc очистите память вашего первоначального\n",
    " - Только фрейм данных"
   ]
  },
  {
   "cell_type": "code",
   "execution_count": 12,
   "id": "8ca5808b-23de-4e0a-83a8-fcbfa2263c97",
   "metadata": {},
   "outputs": [
    {
     "name": "stdout",
     "output_type": "stream",
     "text": [
      "\n",
      "Информация о памяти после очистки:\n",
      "Переменная del_fines была успешно удалена.\n"
     ]
    }
   ],
   "source": [
    "import gc\n",
    "del_fines = fines.copy()\n",
    "del del_fines\n",
    "gc.collect()\n",
    "%reset_selective -f del_fines\n",
    "try:\n",
    "    print(\"\\nИнформация о памяти после очистки:\")\n",
    "    print(del_fines.info(memory_usage='deep'))\n",
    "except NameError:\n",
    "    print(\"Переменная del_fines была успешно удалена.\")"
   ]
  },
  {
   "cell_type": "code",
   "execution_count": 14,
   "id": "1332bf8d-48e3-4d1b-9191-362e0e7d237d",
   "metadata": {},
   "outputs": [
    {
     "ename": "NameError",
     "evalue": "name 'optimized_df' is not defined",
     "output_type": "error",
     "traceback": [
      "\u001b[0;31m---------------------------------------------------------------------------\u001b[0m",
      "\u001b[0;31mNameError\u001b[0m                                 Traceback (most recent call last)",
      "Cell \u001b[0;32mIn[14], line 1\u001b[0m\n\u001b[0;32m----> 1\u001b[0m \u001b[43moptimized_df\u001b[49m\u001b[38;5;241m.\u001b[39minfo(memory_usage\u001b[38;5;241m=\u001b[39m\u001b[38;5;124m'\u001b[39m\u001b[38;5;124mdeep\u001b[39m\u001b[38;5;124m'\u001b[39m)\n",
      "\u001b[0;31mNameError\u001b[0m: name 'optimized_df' is not defined"
     ]
    }
   ],
   "source": [
    "optimized_df.info(memory_usage='deep')"
   ]
  },
  {
   "cell_type": "code",
   "execution_count": null,
   "id": "53ed25ca-c909-4744-8746-389b2f273a3e",
   "metadata": {},
   "outputs": [],
   "source": []
  }
 ],
 "metadata": {
  "kernelspec": {
   "display_name": "Python 3 (ipykernel)",
   "language": "python",
   "name": "python3"
  },
  "language_info": {
   "codemirror_mode": {
    "name": "ipython",
    "version": 3
   },
   "file_extension": ".py",
   "mimetype": "text/x-python",
   "name": "python",
   "nbconvert_exporter": "python",
   "pygments_lexer": "ipython3",
   "version": "3.8.10"
  }
 },
 "nbformat": 4,
 "nbformat_minor": 5
}
