{
 "cells": [
  {
   "cell_type": "markdown",
   "metadata": {},
   "source": [
    "## read_csv"
   ]
  },
  {
   "cell_type": "markdown",
   "metadata": {},
   "source": [
    "### Задачи\n",
    "\n",
    "- отфильтровав строки с индексом 2 и 3 с помощью аргумента skiprows, мы узнаем, что эти наблюдения были поддельными\n",
    "- отфильтровав последние 2 строки из нижнего колонтитула с помощью аргумента skipfooter, мы знаем, что эти наблюдения тоже были поддельными\n",
    "- присвойте столбцу следующие имена: datetime, user\n",
    "- использовать datetime в качестве индексного столбца"
   ]
  },
  {
   "cell_type": "code",
   "execution_count": 1,
   "metadata": {},
   "outputs": [
    {
     "name": "stdout",
     "output_type": "stream",
     "text": [
      "                                 user\n",
      "datetime                             \n",
      "2020-04-17 12:01:08.463179      artem\n",
      "2020-04-17 12:01:23.743946      artem\n",
      "2020-04-17 12:35:52.735016      artem\n",
      "2020-04-17 12:36:21.401412     oksana\n",
      "2020-04-17 12:36:22.023355     oksana\n",
      "...                               ...\n",
      "2020-05-21 16:36:40.915488  ekaterina\n",
      "2020-05-21 17:49:36.429237      maxim\n",
      "2020-05-21 18:45:20.441142  valentina\n",
      "2020-05-21 23:03:06.457819      maxim\n",
      "2020-05-21 23:23:49.995349      pavel\n",
      "\n",
      "[1072 rows x 1 columns]\n"
     ]
    }
   ],
   "source": [
    "import pandas as pd\n",
    "df = pd.read_csv('../data/feed-views.log', skiprows=[2, 3], skipfooter=2, engine='python', names=['datetime', 'user'], sep='\\t', index_col='datetime')\n",
    "print(df)"
   ]
  },
  {
   "cell_type": "markdown",
   "metadata": {},
   "source": [
    "## Переименовать datetime в date_time"
   ]
  },
  {
   "cell_type": "code",
   "execution_count": 2,
   "metadata": {},
   "outputs": [
    {
     "name": "stdout",
     "output_type": "stream",
     "text": [
      "                                 user\n",
      "date_time                            \n",
      "2020-04-17 12:01:08.463179      artem\n",
      "2020-04-17 12:01:23.743946      artem\n",
      "2020-04-17 12:35:52.735016      artem\n",
      "2020-04-17 12:36:21.401412     oksana\n",
      "2020-04-17 12:36:22.023355     oksana\n",
      "...                               ...\n",
      "2020-05-21 16:36:40.915488  ekaterina\n",
      "2020-05-21 17:49:36.429237      maxim\n",
      "2020-05-21 18:45:20.441142  valentina\n",
      "2020-05-21 23:03:06.457819      maxim\n",
      "2020-05-21 23:23:49.995349      pavel\n",
      "\n",
      "[1072 rows x 1 columns]\n"
     ]
    }
   ],
   "source": [
    "df.index.names = ['date_time']\n",
    "print(df)"
   ]
  },
  {
   "cell_type": "markdown",
   "metadata": {},
   "source": [
    "## to_csv"
   ]
  },
  {
   "cell_type": "markdown",
   "metadata": {},
   "source": [
    "- используйте «;» в качестве разделителя\n",
    "- сохраните его в файле с именем feed-views-semicolon.log"
   ]
  },
  {
   "cell_type": "code",
   "execution_count": 3,
   "metadata": {},
   "outputs": [
    {
     "name": "stdout",
     "output_type": "stream",
     "text": [
      "                                 user\n",
      "date_time                            \n",
      "2020-04-17 12:01:08.463179      artem\n",
      "2020-04-17 12:01:23.743946      artem\n",
      "2020-04-17 12:35:52.735016      artem\n",
      "2020-04-17 12:36:21.401412     oksana\n",
      "2020-04-17 12:36:22.023355     oksana\n",
      "...                               ...\n",
      "2020-05-21 16:36:40.915488  ekaterina\n",
      "2020-05-21 17:49:36.429237      maxim\n",
      "2020-05-21 18:45:20.441142  valentina\n",
      "2020-05-21 23:03:06.457819      maxim\n",
      "2020-05-21 23:23:49.995349      pavel\n",
      "\n",
      "[1072 rows x 1 columns]\n"
     ]
    }
   ],
   "source": [
    "df.to_csv('../data/field_views_semicolon.log', sep=';')\n",
    "print(df)"
   ]
  },
  {
   "cell_type": "code",
   "execution_count": 4,
   "metadata": {},
   "outputs": [
    {
     "data": {
      "text/plain": [
       "user    1072\n",
       "dtype: int64"
      ]
     },
     "execution_count": 4,
     "metadata": {},
     "output_type": "execute_result"
    }
   ],
   "source": [
    "df.count()"
   ]
  },
  {
   "cell_type": "code",
   "execution_count": null,
   "metadata": {},
   "outputs": [],
   "source": []
  }
 ],
 "metadata": {
  "kernelspec": {
   "display_name": "Python 3 (ipykernel)",
   "language": "python",
   "name": "python3"
  },
  "language_info": {
   "codemirror_mode": {
    "name": "ipython",
    "version": 3
   },
   "file_extension": ".py",
   "mimetype": "text/x-python",
   "name": "python",
   "nbconvert_exporter": "python",
   "pygments_lexer": "ipython3",
   "version": "3.8.10"
  }
 },
 "nbformat": 4,
 "nbformat_minor": 4
}
