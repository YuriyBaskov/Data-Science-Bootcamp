{
 "cells": [
  {
   "cell_type": "markdown",
   "id": "e9cdc7fc-f7d9-4f52-a439-d748481d1137",
   "metadata": {},
   "source": [
    "## Обогащение и преобразования"
   ]
  },
  {
   "cell_type": "markdown",
   "id": "67490fed-fd62-4649-ac1e-21e19e9ba72b",
   "metadata": {},
   "source": [
    "### 1. Прочитайте файл JSON, который вы сохранили в ex02\n",
    "\n",
    "- один из столбцов имеет тип float, поэтому давайте определим его формат в pandas с помощью pd.options.display.float_format: числа с плавающей точкой должны отображаться с двумя десятичными знаками\n",
    "- в модели отсутствуют значения, ничего с ними не делайте"
   ]
  },
  {
   "cell_type": "code",
   "execution_count": 1,
   "id": "6dcd199a-f5b3-47a7-bc58-fbef3e3639d3",
   "metadata": {},
   "outputs": [
    {
     "name": "stdout",
     "output_type": "stream",
     "text": [
      "        CarNumber  Refund    Fines    Make    Model\n",
      "0    Y163O8161RUS       2  3200.00    Ford    Focus\n",
      "1     E432XX77RUS       1  6500.00  Toyota    Camry\n",
      "2     7184TT36RUS       1  2100.00    Ford    Focus\n",
      "3    X582HE161RUS       2  2000.00    Ford    Focus\n",
      "4    E34877152RUS       2  6100.00    Ford    Focus\n",
      "..            ...     ...      ...     ...      ...\n",
      "926  Y163O8161RUS       2  1600.00    Ford    Focus\n",
      "927  M0309X197RUS       1 22300.00    Ford    Focus\n",
      "928  O673E8197RUS       2   600.00    Ford    Focus\n",
      "929  8610T8154RUS       1  2000.00    Ford    Focus\n",
      "930  H419XE197RUS       2  7860.99  Toyota  Corolla\n",
      "\n",
      "[931 rows x 5 columns]\n"
     ]
    }
   ],
   "source": [
    "import pandas as pd\n",
    "import numpy as np\n",
    "df = pd.read_json('../data/auto.json')\n",
    "pd.options.display.float_format = '{:.2f}'.format\n",
    "print(df)"
   ]
  },
  {
   "cell_type": "markdown",
   "id": "445e49ba-b2dd-4f2b-b4f7-60f40228a4ea",
   "metadata": {},
   "source": [
    "### 2. Oбогатить фрейм данных, используя выборку из этого фрейма данных\n",
    "\n",
    "- создать выборку из 200 новых наблюдений с random_state = 21\n",
    " в выборке не должно быть новых комбинаций номера автомобиля, марки и модели, поэтому весь набор данных будет согласованным в этих терминах\n",
    " нет ограничений по возврату и штрафам, вы можете взять любое значение из этих столбцов наугад и использовать его для любого номера автомобиля\n"
   ]
  },
  {
   "cell_type": "code",
   "execution_count": 2,
   "id": "3e8cacfb-9d66-4c21-9fe0-3e698296e9d4",
   "metadata": {},
   "outputs": [
    {
     "name": "stdout",
     "output_type": "stream",
     "text": [
      "        CarNumber  Refund    Fines   Make    Model\n",
      "0    T6488M116RUS       2  6600.00   Ford    Focus\n",
      "1    98087H178RUS       1  8600.00   Ford    Focus\n",
      "2    O134HE197RUS       1   100.00   Ford    Focus\n",
      "3    H889YK197RUS       2 17500.00   Ford    Focus\n",
      "4    Y195O8161RUS       1  6000.00   Ford    Focus\n",
      "..            ...     ...      ...    ...      ...\n",
      "195  96659X178RUS       1  1000.00   Ford    Focus\n",
      "196  Y650E8750RUS       1 12600.00  Skoda  Octavia\n",
      "197  9428EX178RUS       1  6800.00   Ford    Focus\n",
      "198  E396MO152RUS       1  7860.99   Ford    Focus\n",
      "199  E394MO152RUS       2   600.00   Ford    Focus\n",
      "\n",
      "[200 rows x 5 columns]\n"
     ]
    }
   ],
   "source": [
    "sampled_df = df.sample(n=200, random_state=21)\n",
    "unique_combinations = df[['CarNumber', 'Make', 'Model']].drop_duplicates()\n",
    "sampled_df = sampled_df.merge(unique_combinations, on=['CarNumber', 'Make', 'Model'], how='inner')\n",
    "sampled_df['Refund'] = np.random.choice(df['Refund'], size=len(sampled_df))\n",
    "sampled_df['Fines'] = np.random.choice(df['Fines'], size=len(sampled_df))\n",
    "print(sampled_df)"
   ]
  },
  {
   "cell_type": "markdown",
   "id": "f67af1e2-46a2-4020-8c4a-d2a6563aee82",
   "metadata": {},
   "source": [
    "- объединить выборку с исходным фреймом данных в новый фрейм данных con-cat_rows"
   ]
  },
  {
   "cell_type": "code",
   "execution_count": 3,
   "id": "0fd39b5c-4449-4d57-bba7-38ca943a7b91",
   "metadata": {},
   "outputs": [
    {
     "name": "stdout",
     "output_type": "stream",
     "text": [
      "        CarNumber  Refund    Fines    Make    Model\n",
      "0    Y163O8161RUS       2  3200.00    Ford    Focus\n",
      "1     E432XX77RUS       1  6500.00  Toyota    Camry\n",
      "2     7184TT36RUS       1  2100.00    Ford    Focus\n",
      "3    X582HE161RUS       2  2000.00    Ford    Focus\n",
      "4    E34877152RUS       2  6100.00    Ford    Focus\n",
      "..            ...     ...      ...     ...      ...\n",
      "195  96659X178RUS       1  1000.00    Ford    Focus\n",
      "196  Y650E8750RUS       1 12600.00   Skoda  Octavia\n",
      "197  9428EX178RUS       1  6800.00    Ford    Focus\n",
      "198  E396MO152RUS       1  7860.99    Ford    Focus\n",
      "199  E394MO152RUS       2   600.00    Ford    Focus\n",
      "\n",
      "[1131 rows x 5 columns]\n"
     ]
    }
   ],
   "source": [
    "concat_rows = pd.concat([df, sampled_df])\n",
    "print(concat_rows)"
   ]
  },
  {
   "cell_type": "markdown",
   "id": "5d94cdd5-9186-47c9-8879-a5d957237b67",
   "metadata": {},
   "source": [
    "### 3. Oбогатить фрейм данных concat_rows новым столбцом с полученными данными\n",
    "\n",
    "- создайте ряд с названием Год, используя случайные целые числа от 1980 до 2019\n",
    "- используйте np.random.seed(21) перед генерацией лет\n",
    "- соедините ряд с фреймом данных и назовите его штрафы"
   ]
  },
  {
   "cell_type": "code",
   "execution_count": 4,
   "id": "191f7814-963f-4432-847b-529ee30cbc51",
   "metadata": {},
   "outputs": [
    {
     "name": "stdout",
     "output_type": "stream",
     "text": [
      "         CarNumber  Refund    Fines    Make    Model    Year\n",
      "0     Y163O8161RUS       2  3200.00    Ford    Focus 1989.00\n",
      "1      E432XX77RUS       1  6500.00  Toyota    Camry 1995.00\n",
      "2      7184TT36RUS       1  2100.00    Ford    Focus 1984.00\n",
      "3     X582HE161RUS       2  2000.00    Ford    Focus 2015.00\n",
      "4     E34877152RUS       2  6100.00    Ford    Focus 2014.00\n",
      "...            ...     ...      ...     ...      ...     ...\n",
      "1126  96659X178RUS       1  1000.00    Ford    Focus     NaN\n",
      "1127  Y650E8750RUS       1 12600.00   Skoda  Octavia     NaN\n",
      "1128  9428EX178RUS       1  6800.00    Ford    Focus     NaN\n",
      "1129  E396MO152RUS       1  7860.99    Ford    Focus     NaN\n",
      "1130  E394MO152RUS       2   600.00    Ford    Focus     NaN\n",
      "\n",
      "[1131 rows x 6 columns]\n"
     ]
    }
   ],
   "source": [
    "np.random.seed(21)\n",
    "Year = pd.Series(np.random.randint(1980, 2019, size = 925), name = 'Year')\n",
    "concat_rows.reset_index(drop=True, inplace=True)\n",
    "fines = pd.concat([concat_rows, Year], axis=1)\n",
    "print(fines)"
   ]
  },
  {
   "cell_type": "markdown",
   "id": "10133f1b-f52c-43be-8b7a-904fdb5bfdb2",
   "metadata": {},
   "source": [
    "### 4. Oбогатить фрейм данных данными из другого фрейма данных\n",
    "\n",
    "**4.1 Cоздать новый фрейм данных с номерами автомобилей и их владельцами**\n",
    "- получить самые популярные фамилии ( файл named.json можно найти во вложениях ) в США\n",
    "- создайте новую серию с фамилиями (они не должны содержать специальных символов, таких как запятые, скобки и т. д.) из собранных вами данных, количество должно быть равно количеству уникальных номеров автомобилей, использующих выборку (используйте random_state = 21)\n",
    "- создайте владельцев фрейма данных с 2 столбцами: CarNumber и SURNAME"
   ]
  },
  {
   "cell_type": "code",
   "execution_count": 5,
   "id": "4e768164-fafc-45ab-9252-6cc57998264e",
   "metadata": {},
   "outputs": [
    {
     "name": "stdout",
     "output_type": "stream",
     "text": [
      "Самые популярные фамилии: \n",
      "\n",
      "        NAME    COUNT  RANK\n",
      "84     SMITH  2442977     1\n",
      "40   JOHNSON  1932812     2\n",
      "95  WILLIAMS  1625252     3\n",
      "8      BROWN  1437026     4\n",
      "41     JONES  1425470     5\n",
      "..       ...      ...   ...\n",
      "59     MYERS   229895    96\n",
      "47      LONG   229374    97\n",
      "79      ROSS   229368    98\n",
      "24    FOSTER   227764    99\n",
      "39   JIMENEZ   227118   100\n",
      "\n",
      "[100 rows x 3 columns]\n"
     ]
    }
   ],
   "source": [
    "import pandas as pd\n",
    "surnames = pd.read_json('../../datasets/surname.json')\n",
    "surnames.columns = ['NAME', 'COUNT', 'RANK']\n",
    "surnames = surnames.drop(0).reset_index(drop=True)\n",
    "surnames['RANK'] = surnames['RANK'].astype(int)\n",
    "surnames = surnames.sort_values(by='RANK')\n",
    "print(f\"Самые популярные фамилии: \\n\\n{surnames}\")"
   ]
  },
  {
   "cell_type": "code",
   "execution_count": 6,
   "id": "a14d477a-f348-4879-a35b-ddc2046a25b3",
   "metadata": {},
   "outputs": [
    {
     "name": "stdout",
     "output_type": "stream",
     "text": [
      "0           KELLY\n",
      "1      RICHARDSON\n",
      "2            CRUZ\n",
      "3           JONES\n",
      "4          CARTER\n",
      "          ...    \n",
      "526      MARTINEZ\n",
      "527         YOUNG\n",
      "528        GARCIA\n",
      "529           LEE\n",
      "530          CRUZ\n",
      "Name: Surname, Length: 531, dtype: object\n"
     ]
    }
   ],
   "source": [
    "np.random.seed(21)\n",
    "''' Из 03 '''\n",
    "Year = pd.Series(np.random.randint(1980, 2019, size = 925), name = 'Year')\n",
    "concat_rows.reset_index(drop=True, inplace=True)\n",
    "fines = pd.concat([concat_rows, Year], axis=1)\n",
    "''' Иначе fines потерялась '''\n",
    "unique_car_count = fines['CarNumber'].nunique()\n",
    "sampled_surnames = surnames['NAME'].sample(n=unique_car_count, replace=True, random_state=21)\n",
    "surname_series = pd.Series(sampled_surnames.values, name = 'Surname')\n",
    "print(surname_series)"
   ]
  },
  {
   "cell_type": "code",
   "execution_count": 7,
   "id": "d39c5e02-71bf-4f7f-9acc-74e2f41c33ce",
   "metadata": {},
   "outputs": [
    {
     "name": "stdout",
     "output_type": "stream",
     "text": [
      "        CarNumber     Surname\n",
      "0    Y163O8161RUS       KELLY\n",
      "1     E432XX77RUS  RICHARDSON\n",
      "2     7184TT36RUS        CRUZ\n",
      "3    X582HE161RUS       JONES\n",
      "4    E34877152RUS      CARTER\n",
      "..            ...         ...\n",
      "526  7367C8197RUS    MARTINEZ\n",
      "527  9398MM199RUS       YOUNG\n",
      "528  O136HO197RUS      GARCIA\n",
      "529  M0309X197RUS         LEE\n",
      "530  O673E8197RUS        CRUZ\n",
      "\n",
      "[531 rows x 2 columns]\n"
     ]
    }
   ],
   "source": [
    "owners = pd.DataFrame({\n",
    "    'CarNumber': fines['CarNumber'].unique(),\n",
    "    'Surname': sampled_surnames.values\n",
    "})\n",
    "print(owners)"
   ]
  },
  {
   "cell_type": "markdown",
   "id": "c7ada962-ea69-4383-9c0f-76d4d1d4dc6c",
   "metadata": {},
   "source": [
    "**4.2 Добавьте еще 5 наблюдений к фрейму данных о штрафах (предложите свои собственные идеи CarNumber и т. д.)**"
   ]
  },
  {
   "cell_type": "code",
   "execution_count": 8,
   "id": "a2b384dd-d4da-406d-9c83-4ee84a55646e",
   "metadata": {},
   "outputs": [
    {
     "name": "stdout",
     "output_type": "stream",
     "text": [
      "         CarNumber  Refund    Fines        Make    Model    Year\n",
      "0     Y163O8161RUS       2  3200.00        Ford    Focus 1989.00\n",
      "1      E432XX77RUS       1  6500.00      Toyota    Camry 1995.00\n",
      "2      7184TT36RUS       1  2100.00        Ford    Focus 1984.00\n",
      "3     X582HE161RUS       2  2000.00        Ford    Focus 2015.00\n",
      "4     E34877152RUS       2  6100.00        Ford    Focus 2014.00\n",
      "...            ...     ...      ...         ...      ...     ...\n",
      "1131  1111C8197RUS       2   500.00      Toyota  Corolla 2007.00\n",
      "1132  2222C8197RUS       1   100.00        Ford    Focus 1997.00\n",
      "1133   33339Y50RUS       2 10100.00  Volkswagen     Golf 1984.00\n",
      "1134  4444MM116RUS       1  2400.00       Skoda  Octavia 2017.00\n",
      "1135  5555M7161RUS       2  7800.00      Porshe      911 2077.00\n",
      "\n",
      "[1136 rows x 6 columns]\n"
     ]
    }
   ],
   "source": [
    "additional_fines = pd.DataFrame({\n",
    "    'CarNumber': ['1111C8197RUS','2222C8197RUS', '33339Y50RUS', '4444MM116RUS', '5555M7161RUS'],\n",
    "    'Refund': [2, 1, 2, 1, 2],\n",
    "    'Fines': [500, 100, 10100, 2400, 7800],\n",
    "    'Make': ['Toyota', 'Ford', 'Volkswagen', 'Skoda', 'Porshe'],\n",
    "    'Model': ['Corolla', 'Focus', 'Golf', 'Octavia', '911'],\n",
    "    'Year': [2007, 1997, 1984, 2017, 2077]\n",
    "})\n",
    "fines = pd.concat([fines, additional_fines], ignore_index=True)\n",
    "print(fines)"
   ]
  },
  {
   "cell_type": "markdown",
   "id": "ed47df0b-7af4-4e92-ad92-dc3646e8d390",
   "metadata": {},
   "source": [
    "**4.3 Удалите из датафрейма последние 20 наблюдений от владельцев и добавьте 3 новых наблюдения (они не совпадают с теми, которые вы добавляете в датафрейм штрафов)**"
   ]
  },
  {
   "cell_type": "code",
   "execution_count": 9,
   "id": "425d5034-d928-4e67-98b6-8ff16beb560a",
   "metadata": {},
   "outputs": [
    {
     "name": "stdout",
     "output_type": "stream",
     "text": [
      "        CarNumber     Surname\n",
      "0    Y163O8161RUS       KELLY\n",
      "1     E432XX77RUS  RICHARDSON\n",
      "2     7184TT36RUS        CRUZ\n",
      "3    X582HE161RUS       JONES\n",
      "4    E34877152RUS      CARTER\n",
      "..            ...         ...\n",
      "509  7360C8197RUS      FOSTER\n",
      "510  E29677161RUS      WRIGHT\n",
      "511  666660197RUS       MISSI\n",
      "512  777770197RUS       SIPPI\n",
      "513  888880197RUS  SILVERHAND\n",
      "\n",
      "[514 rows x 2 columns]\n"
     ]
    }
   ],
   "source": [
    "owners = owners.iloc[:-20]\n",
    "add_owners = pd.DataFrame({\n",
    "    'CarNumber': ['666660197RUS', '777770197RUS', '888880197RUS'],\n",
    "    'Surname': ['MISSI', 'SIPPI', 'SILVERHAND']\n",
    "})\n",
    "owners = pd.concat([owners, add_owners], ignore_index=True)\n",
    "print(owners)"
   ]
  },
  {
   "cell_type": "markdown",
   "id": "236c6947-bcdd-4683-8fc8-29001fc56d29",
   "metadata": {},
   "source": [
    "**4.4 Объедините оба фрейма данных:**\n",
    "- новый фрейм данных должен содержать только те номера автомобилей, которые существуют в обоих фреймах данных\n",
    "- новый фрейм данных должен содержать все номера автомобилей, которые существуют в обоих фреймах данных\n",
    "- новый фрейм данных должен содержать только номера автомобилей из фрейма данных о штрафах\n",
    "- новый фрейм данных должен содержать только номера автомобилей из фрейма данных владельцев"
   ]
  },
  {
   "cell_type": "code",
   "execution_count": 10,
   "id": "b8d3211d-6468-4075-81dd-dd278deb7f14",
   "metadata": {},
   "outputs": [
    {
     "name": "stdout",
     "output_type": "stream",
     "text": [
      "Только номера автомобилей, которые существуют в обоих фреймах данных: \n",
      "         CarNumber  Refund    Fines    Make    Model    Year     Surname\n",
      "0     Y163O8161RUS       2  3200.00    Ford    Focus 1989.00       KELLY\n",
      "1     Y163O8161RUS       2  1600.00    Ford    Focus     NaN       KELLY\n",
      "2      E432XX77RUS       1  6500.00  Toyota    Camry 1995.00  RICHARDSON\n",
      "3      E432XX77RUS       2 13000.00  Toyota    Camry 1993.00  RICHARDSON\n",
      "4      E432XX77RUS       2 37800.00  Toyota    Camry     NaN  RICHARDSON\n",
      "...            ...     ...      ...     ...      ...     ...         ...\n",
      "1101  H259HY161RUS       1   900.00  Toyota  Corolla 2008.00        KING\n",
      "1102  K889HY161RUS       2 46200.00    Ford   Mondeo 2014.00      GARCIA\n",
      "1103  O421OT161RUS       1  1200.00   Skoda  Octavia 2014.00     ROBERTS\n",
      "1104  7360C8197RUS       2  9600.00    Ford    Focus 2014.00      FOSTER\n",
      "1105  E29677161RUS       2  6000.00    Ford    Focus 1995.00      WRIGHT\n",
      "\n",
      "[1106 rows x 7 columns]\n",
      "\n",
      "Все номера автомобилей, которые существуют в обоих фреймах данных: \n",
      "         CarNumber  Refund    Fines    Make    Model    Year     Surname\n",
      "0     Y163O8161RUS    2.00  3200.00    Ford    Focus 1989.00       KELLY\n",
      "1     Y163O8161RUS    2.00  1600.00    Ford    Focus     NaN       KELLY\n",
      "2      E432XX77RUS    1.00  6500.00  Toyota    Camry 1995.00  RICHARDSON\n",
      "3      E432XX77RUS    2.00 13000.00  Toyota    Camry 1993.00  RICHARDSON\n",
      "4      E432XX77RUS    2.00 37800.00  Toyota    Camry     NaN  RICHARDSON\n",
      "...            ...     ...      ...     ...      ...     ...         ...\n",
      "1134  4444MM116RUS    1.00  2400.00   Skoda  Octavia 2017.00         NaN\n",
      "1135  5555M7161RUS    2.00  7800.00  Porshe      911 2077.00         NaN\n",
      "1136  666660197RUS     NaN      NaN     NaN      NaN     NaN       MISSI\n",
      "1137  777770197RUS     NaN      NaN     NaN      NaN     NaN       SIPPI\n",
      "1138  888880197RUS     NaN      NaN     NaN      NaN     NaN  SILVERHAND\n",
      "\n",
      "[1139 rows x 7 columns]\n",
      "\n",
      "Только номера автомобилей из фрейма данных о штрафах: \n",
      "         CarNumber  Refund    Fines        Make    Model    Year     Surname\n",
      "0     Y163O8161RUS       2  3200.00        Ford    Focus 1989.00       KELLY\n",
      "1      E432XX77RUS       1  6500.00      Toyota    Camry 1995.00  RICHARDSON\n",
      "2      7184TT36RUS       1  2100.00        Ford    Focus 1984.00        CRUZ\n",
      "3     X582HE161RUS       2  2000.00        Ford    Focus 2015.00       JONES\n",
      "4     E34877152RUS       2  6100.00        Ford    Focus 2014.00      CARTER\n",
      "...            ...     ...      ...         ...      ...     ...         ...\n",
      "1131  1111C8197RUS       2   500.00      Toyota  Corolla 2007.00         NaN\n",
      "1132  2222C8197RUS       1   100.00        Ford    Focus 1997.00         NaN\n",
      "1133   33339Y50RUS       2 10100.00  Volkswagen     Golf 1984.00         NaN\n",
      "1134  4444MM116RUS       1  2400.00       Skoda  Octavia 2017.00         NaN\n",
      "1135  5555M7161RUS       2  7800.00      Porshe      911 2077.00         NaN\n",
      "\n",
      "[1136 rows x 7 columns]\n",
      "\n",
      "Только номера автомобилей из фрейма данных владельцев: \n",
      "         CarNumber  Refund    Fines    Make  Model    Year     Surname\n",
      "0     Y163O8161RUS    2.00  3200.00    Ford  Focus 1989.00       KELLY\n",
      "1     Y163O8161RUS    2.00  1600.00    Ford  Focus     NaN       KELLY\n",
      "2      E432XX77RUS    1.00  6500.00  Toyota  Camry 1995.00  RICHARDSON\n",
      "3      E432XX77RUS    2.00 13000.00  Toyota  Camry 1993.00  RICHARDSON\n",
      "4      E432XX77RUS    2.00 37800.00  Toyota  Camry     NaN  RICHARDSON\n",
      "...            ...     ...      ...     ...    ...     ...         ...\n",
      "1104  7360C8197RUS    2.00  9600.00    Ford  Focus 2014.00      FOSTER\n",
      "1105  E29677161RUS    2.00  6000.00    Ford  Focus 1995.00      WRIGHT\n",
      "1106  666660197RUS     NaN      NaN     NaN    NaN     NaN       MISSI\n",
      "1107  777770197RUS     NaN      NaN     NaN    NaN     NaN       SIPPI\n",
      "1108  888880197RUS     NaN      NaN     NaN    NaN     NaN  SILVERHAND\n",
      "\n",
      "[1109 rows x 7 columns]\n"
     ]
    }
   ],
   "source": [
    "both_carnum = pd.merge(fines, owners, how='inner', on='CarNumber')\n",
    "all_carnum = pd.merge(fines, owners, how='outer', on='CarNumber')\n",
    "fines_carnum = pd.merge(fines, owners, how='left', on='CarNumber')\n",
    "owners_carnum = pd.merge(fines, owners, how='right', on='CarNumber')\n",
    "print(f\"Только номера автомобилей, которые существуют в обоих фреймах данных: \\n{both_carnum}\")\n",
    "print(f\"\\nВсе номера автомобилей, которые существуют в обоих фреймах данных: \\n{all_carnum}\")\n",
    "print(f\"\\nТолько номера автомобилей из фрейма данных о штрафах: \\n{fines_carnum}\")\n",
    "print(f\"\\nТолько номера автомобилей из фрейма данных владельцев: \\n{owners_carnum}\")"
   ]
  },
  {
   "cell_type": "markdown",
   "id": "b8844425-0ca3-40d2-985e-ed8f2161f348",
   "metadata": {},
   "source": [
    "### 5. Cоздайте сводную таблицу из фрейма данных штрафов со всеми годами.\n",
    "- сохранить данные о штрафах и владельцах в CSV-файлы без индекса"
   ]
  },
  {
   "cell_type": "code",
   "execution_count": 11,
   "id": "bfca0901-3cd6-429e-ae5f-e16d3c516185",
   "metadata": {},
   "outputs": [
    {
     "name": "stdout",
     "output_type": "stream",
     "text": [
      "Year                 1980.00  1981.00   1982.00   1983.00   1984.00   1985.00  \\\n",
      "Make       Model                                                                \n",
      "Audi                     NaN      NaN       NaN       NaN       NaN       NaN   \n",
      "BMW                      NaN      NaN       NaN       NaN       NaN       NaN   \n",
      "Ford       Focus   110421.98 97160.99 104021.98 330260.99 100782.97 102321.98   \n",
      "           Mondeo        NaN  8600.00       NaN       NaN       NaN  34400.00   \n",
      "Porshe     911           NaN      NaN       NaN       NaN       NaN       NaN   \n",
      "Skoda      Octavia   8500.00      NaN  13460.99  19800.00   3000.00 152000.00   \n",
      "Toyota     Camry         NaN  7860.99       NaN       NaN       NaN   1000.00   \n",
      "           Corolla       NaN      NaN   3200.00       NaN  34300.00       NaN   \n",
      "Volkswagen               NaN      NaN       NaN       NaN       NaN       NaN   \n",
      "           Golf      4600.00      NaN    300.00    200.00  10100.00   4000.00   \n",
      "           Jetta         NaN      NaN   1600.00       NaN       NaN       NaN   \n",
      "           Passat        NaN      NaN   3000.00       NaN  16400.00  46300.00   \n",
      "           Touareg       NaN      NaN       NaN       NaN       NaN       NaN   \n",
      "Volvo                    NaN      NaN  10200.00       NaN       NaN       NaN   \n",
      "\n",
      "Year                 1986.00   1987.00   1988.00   1989.00  ...  2010.00  \\\n",
      "Make       Model                                            ...            \n",
      "Audi                     NaN       NaN       NaN       NaN  ...      NaN   \n",
      "BMW                      NaN       NaN       NaN       NaN  ...      NaN   \n",
      "Ford       Focus   162960.99 141521.98 119060.99 248100.00  ... 93900.00   \n",
      "           Mondeo        NaN   7800.00       NaN   8600.00  ...      NaN   \n",
      "Porshe     911           NaN       NaN       NaN       NaN  ...      NaN   \n",
      "Skoda      Octavia  72500.00   7860.99   3000.00  42100.00  ...      NaN   \n",
      "Toyota     Camry         NaN  19900.00       NaN       NaN  ...      NaN   \n",
      "           Corolla       NaN   6900.00       NaN       NaN  ...  2000.00   \n",
      "Volkswagen               NaN       NaN       NaN       NaN  ...  7400.00   \n",
      "           Golf          NaN       NaN   9300.00    300.00  ... 18700.00   \n",
      "           Jetta         NaN   4000.00       NaN  46000.00  ... 13000.00   \n",
      "           Passat     900.00   7860.99       NaN       NaN  ...  1600.00   \n",
      "           Touareg   5800.00       NaN       NaN       NaN  ...      NaN   \n",
      "Volvo                    NaN       NaN       NaN       NaN  ...      NaN   \n",
      "\n",
      "Year                2011.00   2012.00   2013.00   2014.00   2015.00   2016.00  \\\n",
      "Make       Model                                                                \n",
      "Audi                    NaN   4200.00       NaN       NaN       NaN       NaN   \n",
      "BMW                 3000.00       NaN       NaN       NaN       NaN       NaN   \n",
      "Ford       Focus   45721.98 172682.97 153721.98 177100.00 194360.99 152060.99   \n",
      "           Mondeo       NaN   1100.00       NaN  48400.00       NaN       NaN   \n",
      "Porshe     911          NaN       NaN       NaN       NaN       NaN       NaN   \n",
      "Skoda      Octavia  3900.00  64300.00   4000.00   9060.99  21860.99       NaN   \n",
      "Toyota     Camry    7200.00       NaN  22400.00   7860.99       NaN   4400.00   \n",
      "           Corolla  7600.00       NaN       NaN       NaN       NaN       NaN   \n",
      "Volkswagen              NaN       NaN   1300.00       NaN       NaN       NaN   \n",
      "           Golf     5000.00   1000.00       NaN  24000.00  10600.00       NaN   \n",
      "           Jetta        NaN       NaN    500.00       NaN       NaN       NaN   \n",
      "           Passat   3200.00       NaN  17500.00       NaN   9500.00   1000.00   \n",
      "           Touareg      NaN       NaN       NaN       NaN    500.00       NaN   \n",
      "Volvo                   NaN   6800.00       NaN       NaN       NaN       NaN   \n",
      "\n",
      "Year                 2017.00  2018.00  2077.00  \n",
      "Make       Model                                \n",
      "Audi                     NaN      NaN      NaN  \n",
      "BMW                      NaN      NaN      NaN  \n",
      "Ford       Focus   138621.98 93500.00      NaN  \n",
      "           Mondeo        NaN      NaN      NaN  \n",
      "Porshe     911           NaN      NaN  7800.00  \n",
      "Skoda      Octavia   2700.00 16060.99      NaN  \n",
      "Toyota     Camry         NaN  7200.00      NaN  \n",
      "           Corolla       NaN      NaN      NaN  \n",
      "Volkswagen               NaN      NaN      NaN  \n",
      "           Golf          NaN      NaN      NaN  \n",
      "           Jetta         NaN      NaN      NaN  \n",
      "           Passat        NaN      NaN      NaN  \n",
      "           Touareg   5800.00      NaN      NaN  \n",
      "Volvo                    NaN      NaN      NaN  \n",
      "\n",
      "[14 rows x 40 columns]\n"
     ]
    }
   ],
   "source": [
    "pivot_table = fines.pivot_table(\n",
    "    values='Fines',\n",
    "    index=['Make', 'Model'],\n",
    "    columns='Year',\n",
    "    aggfunc='sum'\n",
    ")\n",
    "print(pivot_table)"
   ]
  },
  {
   "cell_type": "code",
   "execution_count": 12,
   "id": "584d9fd3-d768-43c1-a666-8e8981432258",
   "metadata": {},
   "outputs": [
    {
     "name": "stdout",
     "output_type": "stream",
     "text": [
      "Данные о штрафах и владельцах сохранены в CSV-файлы\n"
     ]
    }
   ],
   "source": [
    "fines.to_csv('../data/fines.csv', index=False)\n",
    "owners.to_csv('../data/owners.csv', index=False)\n",
    "print('Данные о штрафах и владельцах сохранены в CSV-файлы')"
   ]
  }
 ],
 "metadata": {
  "kernelspec": {
   "display_name": "Python 3 (ipykernel)",
   "language": "python",
   "name": "python3"
  },
  "language_info": {
   "codemirror_mode": {
    "name": "ipython",
    "version": 3
   },
   "file_extension": ".py",
   "mimetype": "text/x-python",
   "name": "python",
   "nbconvert_exporter": "python",
   "pygments_lexer": "ipython3",
   "version": "3.8.10"
  }
 },
 "nbformat": 4,
 "nbformat_minor": 5
}
