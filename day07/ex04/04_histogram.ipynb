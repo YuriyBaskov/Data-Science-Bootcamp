{
 "cells": [
  {
   "cell_type": "markdown",
   "id": "5ee56e41-21a8-4506-9ade-00fae6db1eee",
   "metadata": {},
   "source": [
    "# Ранее мы рисовали распределение, группируя значения с помощью Pandas. Было бы здорово, если бы мы могли нарисовать его более автоматическим способом.\n",
    "# Но нам придется использовать другой тип визуализации – гистограммы. На этот раз мы не будем использовать средние значения. Мы будем использовать абсолютные числа коммитов и сравним их в рабочие и выходные дни."
   ]
  },
  {
   "cell_type": "code",
   "execution_count": 5,
   "id": "da3e4bdf-1154-4ee5-86d5-e52850561a43",
   "metadata": {},
   "outputs": [],
   "source": [
    "import pandas as pd\n",
    "import sqlite3\n",
    "import matplotlib.pyplot as plt\n",
    "\n",
    "\n",
    "conn = sqlite3.connect('../data/checking-logs.sqlite')"
   ]
  },
  {
   "cell_type": "code",
   "execution_count": 6,
   "id": "c24fa588-579f-4c22-9d6c-2d8e48acf978",
   "metadata": {},
   "outputs": [],
   "source": [
    "commits_query = \"\"\"\n",
    "SELECT timestamp\n",
    "FROM checker\n",
    "WHERE uid LIKE 'user_%';\n",
    "\"\"\"\n",
    "commits_df = pd.read_sql_query(commits_query, conn)\n",
    "\n",
    "# Преобразование столбца timestamp в формат datetime\n",
    "commits_df['timestamp'] = pd.to_datetime(commits_df['timestamp'])"
   ]
  },
  {
   "cell_type": "code",
   "execution_count": 7,
   "id": "dd58d581-80dc-42cf-b1be-7f1a40a975a5",
   "metadata": {},
   "outputs": [],
   "source": [
    "# Добавление столбца с часом\n",
    "commits_df['hour'] = commits_df['timestamp'].dt.hour\\\n",
    "\n",
    "# Добавление столбца с днем недели\n",
    "commits_df['day_of_week'] = commits_df['timestamp'].dt.day_name()\n",
    "\n",
    "# Разделение данных на рабочие и выходные дни\n",
    "workdays = commits_df[commits_df['day_of_week'].isin(['Monday', 'Tuesday', 'Wednesday', 'Thursday', 'Friday'])]\n",
    "weekends = commits_df[commits_df['day_of_week'].isin(['Saturday', 'Sunday'])]"
   ]
  },
  {
   "cell_type": "code",
   "execution_count": 8,
   "id": "be5bb696-7d26-4ed8-b75e-12d2e6318c79",
   "metadata": {},
   "outputs": [
    {
     "data": {
      "image/png": "[encoded data removed]",
      "text/plain": [
       "<Figure size 1500x800 with 1 Axes>"
      ]
     },
     "metadata": {},
     "output_type": "display_data"
    }
   ],
   "source": [
    "# Группировка данных по часу и подсчет количества коммитов\n",
    "workdays_counts = workdays.groupby('hour').size().reindex(range(24), fill_value=0).reset_index(name='counts')\n",
    "weekends_counts = weekends.groupby('hour').size().reindex(range(24), fill_value=0).reset_index(name='counts')\n",
    "\n",
    "# Построение гистограммы\n",
    "plt.figure(figsize=(15, 8))\n",
    "\n",
    "# Определение диапазона для оси X (часы)\n",
    "hours = range(24)\n",
    "\n",
    "# Построение гистограммы\n",
    "plt.bar(workdays_counts['hour'], workdays_counts['counts'], alpha=0.7, label='working days', color='skyblue', width=1, align='edge')\n",
    "plt.bar(weekends_counts['hour'], weekends_counts['counts'], alpha=0.7, label='weekend', color='red', width=1, align='edge')\n",
    "plt.gcf().set_facecolor('lightgray')\n",
    "plt.gca().set_facecolor('lightgray')\n",
    "\n",
    "# Добавление легенды\n",
    "plt.legend(loc='upper left', fontsize=8, facecolor='lightgrey', edgecolor='grey')\n",
    "# Удаление отступов от краев\n",
    "plt.xlim(0, 24)\n",
    "\n",
    "\n",
    "# Показ графика\n",
    "plt.show()"
   ]
  },
  {
   "cell_type": "code",
   "execution_count": 13,
   "id": "b5d8f357-f2b6-4518-9391-827899421782",
   "metadata": {},
   "outputs": [
    {
     "data": {
      "text/plain": [
       "1170"
      ]
     },
     "execution_count": 13,
     "metadata": {},
     "output_type": "execute_result"
    }
   ],
   "source": [
    "len(weekends)"
   ]
  },
  {
   "cell_type": "code",
   "execution_count": 10,
   "id": "cbc54f2f-9972-4490-8359-c6f966171867",
   "metadata": {},
   "outputs": [
    {
     "name": "stdout",
     "output_type": "stream",
     "text": [
      "Часы, когда количество коммитов в выходные дни было выше, чем в рабочие дни: \n",
      "[11, 13, 22, 23]\n"
     ]
    }
   ],
   "source": [
    "# Объединение данных для сравнения\n",
    "comparison_df = pd.merge(workdays_counts, weekends_counts, on='hour', suffixes=('_workdays', '_weekends'))\n",
    "\n",
    "# Нахождение часов, когда количество коммитов в выходные дни было выше, чем в рабочие дни\n",
    "comparison_df['difference'] = comparison_df['counts_weekends'] - comparison_df['counts_workdays']\n",
    "best_examples = comparison_df[comparison_df['difference'] > 0].nlargest(4, 'difference').sort_values(by ='hour')\n",
    "\n",
    "# Вывод результатов\n",
    "print(f\"Часы, когда количество коммитов в выходные дни было выше, чем в рабочие дни: \\n{best_examples['hour'].tolist()}\")"
   ]
  },
  {
   "cell_type": "code",
   "execution_count": 11,
   "id": "05956467-d901-443c-b664-c07837aaa3a3",
   "metadata": {},
   "outputs": [],
   "source": [
    "conn.close()"
   ]
  }
 ],
 "metadata": {
  "kernelspec": {
   "display_name": "Python 3 (ipykernel)",
   "language": "python",
   "name": "python3"
  },
  "language_info": {
   "codemirror_mode": {
    "name": "ipython",
    "version": 3
   },
   "file_extension": ".py",
   "mimetype": "text/x-python",
   "name": "python",
   "nbconvert_exporter": "python",
   "pygments_lexer": "ipython3",
   "version": "3.8.10"
  }
 },
 "nbformat": 4,
 "nbformat_minor": 5
}
