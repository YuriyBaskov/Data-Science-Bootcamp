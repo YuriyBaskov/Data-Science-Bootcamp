{
 "cells": [
  {
   "cell_type": "markdown",
   "id": "29fead70-30a8-4e32-b76d-0267b0906ba6",
   "metadata": {},
   "source": [
    "# Ранее мы пытались выяснить, повлияла ли новостная лента на поведение тестовых и контрольных пользователей. В прошлый раз мы просто вычислили средние значения. Но знаем ли мы что-то о дисперсиях? А что, если она тоже изменилась? А что, если у нас были выбросы?\n",
    "\n",
    "## Чтобы ответить на эти вопросы, может быть полезно нарисовать диаграмму «ящик-корпус»."
   ]
  },
  {
   "cell_type": "code",
   "execution_count": 85,
   "id": "1c9bc4b9-631e-4c66-8815-ba55eee1649e",
   "metadata": {},
   "outputs": [],
   "source": [
    "import pandas as pd\n",
    "import sqlite3\n",
    "import matplotlib.pyplot as plt\n",
    "\n",
    "\n",
    "conn = sqlite3.connect('../data/checking-logs.sqlite')\n",
    "\n",
    "def ab_query(table_name, connection):\n",
    "    query = f\"\"\"\n",
    "    WITH user_visits AS (\n",
    "        SELECT \n",
    "            t.uid AS uid,\n",
    "            DATETIME(t.first_view_ts) AS first_view\n",
    "        FROM \n",
    "            {table_name} t\n",
    "        JOIN \n",
    "            deadlines d ON t.labname = d.labs\n",
    "        WHERE \n",
    "            d.labs != 'project1'\n",
    "    ),\n",
    "    averages AS (\n",
    "        SELECT\n",
    "            CASE \n",
    "                WHEN DATETIME(t.first_commit_ts) < uv.first_view THEN 'before'\n",
    "                ELSE 'after'\n",
    "            END AS time,\n",
    "            t.uid,\n",
    "            AVG(JULIANDAY(DATETIME(t.first_commit_ts)) - JULIANDAY(DATETIME(d.deadlines, 'unixepoch'))) * 24 AS avg_diff\n",
    "        FROM \n",
    "            {table_name} t\n",
    "        JOIN \n",
    "            deadlines d ON t.labname = d.labs\n",
    "        JOIN \n",
    "            user_visits uv ON t.uid = uv.uid\n",
    "        WHERE \n",
    "            d.labs != 'project1'\n",
    "        GROUP BY \n",
    "            t.uid, time\n",
    "    ),\n",
    "    users_with_both AS (\n",
    "        SELECT\n",
    "            uid\n",
    "        FROM\n",
    "            averages\n",
    "        GROUP BY\n",
    "            uid\n",
    "        HAVING\n",
    "            COUNT(DISTINCT time) = 2\n",
    "    )\n",
    "    SELECT \n",
    "        time, \n",
    "        uid,\n",
    "        AVG(avg_diff) AS avg_diff\n",
    "    FROM \n",
    "        averages\n",
    "    WHERE \n",
    "        uid IN (SELECT uid FROM users_with_both)\n",
    "    GROUP BY \n",
    "        time, uid;\n",
    "    \"\"\"\n",
    "    return pd.read_sql_query(query, connection)"
   ]
  },
  {
   "cell_type": "code",
   "execution_count": 86,
   "id": "360486c3-86dc-4a39-92b3-cb9c5aa05b67",
   "metadata": {},
   "outputs": [
    {
     "data": {
      "text/html": [
       "<div>\n",
       "<style scoped>\n",
       "    .dataframe tbody tr th:only-of-type {\n",
       "        vertical-align: middle;\n",
       "    }\n",
       "\n",
       "    .dataframe tbody tr th {\n",
       "        vertical-align: top;\n",
       "    }\n",
       "\n",
       "    .dataframe thead th {\n",
       "        text-align: right;\n",
       "    }\n",
       "</style>\n",
       "<table border=\"1\" class=\"dataframe\">\n",
       "  <thead>\n",
       "    <tr style=\"text-align: right;\">\n",
       "      <th></th>\n",
       "      <th>time</th>\n",
       "      <th>uid</th>\n",
       "      <th>avg_diff</th>\n",
       "    </tr>\n",
       "  </thead>\n",
       "  <tbody>\n",
       "    <tr>\n",
       "      <th>0</th>\n",
       "      <td>after</td>\n",
       "      <td>user_1</td>\n",
       "      <td>-103.969167</td>\n",
       "    </tr>\n",
       "    <tr>\n",
       "      <th>1</th>\n",
       "      <td>after</td>\n",
       "      <td>user_18</td>\n",
       "      <td>-10.973611</td>\n",
       "    </tr>\n",
       "    <tr>\n",
       "      <th>2</th>\n",
       "      <td>after</td>\n",
       "      <td>user_19</td>\n",
       "      <td>-82.948519</td>\n",
       "    </tr>\n",
       "    <tr>\n",
       "      <th>3</th>\n",
       "      <td>after</td>\n",
       "      <td>user_21</td>\n",
       "      <td>-79.200556</td>\n",
       "    </tr>\n",
       "    <tr>\n",
       "      <th>4</th>\n",
       "      <td>after</td>\n",
       "      <td>user_25</td>\n",
       "      <td>-128.414583</td>\n",
       "    </tr>\n",
       "  </tbody>\n",
       "</table>\n",
       "</div>"
      ],
      "text/plain": [
       "    time      uid    avg_diff\n",
       "0  after   user_1 -103.969167\n",
       "1  after  user_18  -10.973611\n",
       "2  after  user_19  -82.948519\n",
       "3  after  user_21  -79.200556\n",
       "4  after  user_25 -128.414583"
      ]
     },
     "execution_count": 86,
     "metadata": {},
     "output_type": "execute_result"
    }
   ],
   "source": [
    "test_results = ab_query(\"test\", conn)\n",
    "control_results = ab_query(\"control\", conn)\n",
    "\n",
    "test_results.head()"
   ]
  },
  {
   "cell_type": "code",
   "execution_count": 87,
   "id": "fa7433bf-16c4-434f-a73e-aef1fcdefbb6",
   "metadata": {},
   "outputs": [
    {
     "data": {
      "text/html": [
       "<div>\n",
       "<style scoped>\n",
       "    .dataframe tbody tr th:only-of-type {\n",
       "        vertical-align: middle;\n",
       "    }\n",
       "\n",
       "    .dataframe tbody tr th {\n",
       "        vertical-align: top;\n",
       "    }\n",
       "\n",
       "    .dataframe thead th {\n",
       "        text-align: right;\n",
       "    }\n",
       "</style>\n",
       "<table border=\"1\" class=\"dataframe\">\n",
       "  <thead>\n",
       "    <tr style=\"text-align: right;\">\n",
       "      <th></th>\n",
       "      <th>time</th>\n",
       "      <th>uid</th>\n",
       "      <th>avg_diff</th>\n",
       "    </tr>\n",
       "  </thead>\n",
       "  <tbody>\n",
       "    <tr>\n",
       "      <th>0</th>\n",
       "      <td>after</td>\n",
       "      <td>user_12</td>\n",
       "      <td>-75.322500</td>\n",
       "    </tr>\n",
       "    <tr>\n",
       "      <th>1</th>\n",
       "      <td>after</td>\n",
       "      <td>user_13</td>\n",
       "      <td>-81.901389</td>\n",
       "    </tr>\n",
       "    <tr>\n",
       "      <th>2</th>\n",
       "      <td>after</td>\n",
       "      <td>user_15</td>\n",
       "      <td>-32.529722</td>\n",
       "    </tr>\n",
       "    <tr>\n",
       "      <th>3</th>\n",
       "      <td>after</td>\n",
       "      <td>user_16</td>\n",
       "      <td>17.564861</td>\n",
       "    </tr>\n",
       "    <tr>\n",
       "      <th>4</th>\n",
       "      <td>after</td>\n",
       "      <td>user_2</td>\n",
       "      <td>-94.608426</td>\n",
       "    </tr>\n",
       "  </tbody>\n",
       "</table>\n",
       "</div>"
      ],
      "text/plain": [
       "    time      uid   avg_diff\n",
       "0  after  user_12 -75.322500\n",
       "1  after  user_13 -81.901389\n",
       "2  after  user_15 -32.529722\n",
       "3  after  user_16  17.564861\n",
       "4  after   user_2 -94.608426"
      ]
     },
     "execution_count": 87,
     "metadata": {},
     "output_type": "execute_result"
    }
   ],
   "source": [
    "control_results.head()"
   ]
  },
  {
   "cell_type": "code",
   "execution_count": 88,
   "id": "5f841806-3a4b-4baa-899d-2c83e2e6f6b8",
   "metadata": {},
   "outputs": [],
   "source": [
    "def create_boxplot(ax, control_data, test_data, title):\n",
    "    # Диаграмма\n",
    "    box = ax.boxplot(\n",
    "        [control_data, test_data],\n",
    "        labels=['control', 'test'],\n",
    "        boxprops=dict(linewidth=3, color='green'),  # Цвет боксов\n",
    "        whiskerprops=dict(linewidth=1, color='red'),  # Цвет усов\n",
    "        capprops=dict(color='red'),  # Цвет границ (усов)\n",
    "        medianprops=dict(linewidth=2, color='red'),  # Цвет медианы\n",
    "        meanprops=dict(marker='^', markerfacecolor='green', markersize=3, label='Mean')  # Среднее\n",
    "    )\n",
    "    \n",
    "    # Отображение среднего\n",
    "    mean_control = control_data.mean()\n",
    "    mean_test = test_data.mean()\n",
    "    ax.plot([1], [mean_control], marker='^', color='green', markersize=3)  # среднее для контрольной группы\n",
    "    ax.plot([2], [mean_test], marker='^', color='green', markersize=3)  # среднее для тестовой группы\n",
    "    \n",
    "    # Добавление вертикальных линий\n",
    "    for i, line in enumerate(box['whiskers']):\n",
    "        x, y = line.get_xdata(), line.get_ydata()\n",
    "        if y[0] == y[1]:  # Если усы отсутствуют (имеют одинаковую высоту)\n",
    "            ax.axvline(x=x[0], color='lightgrey', linestyle='--', linewidth=1)\n",
    "            \n",
    "    # Настройки графика\n",
    "    ax.set_title(title, fontsize=10)\n",
    "    ax.set_xlabel('[group]', fontsize=10)\n",
    "    ax.grid(True)"
   ]
  },
  {
   "cell_type": "code",
   "execution_count": 89,
   "id": "0b041cc3-f146-4d1a-80bd-1f2e245d7860",
   "metadata": {},
   "outputs": [
    {
     "data": {
      "image/png": "[encoded data removed]",
      "text/plain": [
       "<Figure size 1400x600 with 2 Axes>"
      ]
     },
     "metadata": {},
     "output_type": "display_data"
    }
   ],
   "source": [
    "# Создание графиков\n",
    "fig, axes = plt.subplots(1, 2, figsize=(14, 6), sharey=True)\n",
    "fig.patch.set_facecolor('lightgrey')\n",
    "for ax in axes:\n",
    "    ax.set_facecolor('lightgrey')\n",
    "axes[0].set_position([0.1, 0.2, 0.45, 0.5])  # Первый график\n",
    "axes[1].set_position([0.57, 0.2, 0.45, 0.5])  # Второй график (начало ближе к первому)\n",
    "\n",
    "# Данные для графиков\n",
    "control_after = control_results[control_results.time == 'after']['avg_diff']\n",
    "test_after = test_results[test_results.time == 'after']['avg_diff']\n",
    "control_before = control_results[control_results.time == 'before']['avg_diff']\n",
    "test_before = test_results[test_results.time == 'before']['avg_diff']\n",
    "\n",
    "# Создание boxplot для \"after\" и \"before\"\n",
    "create_boxplot(axes[0], control_after, test_after, 'after')\n",
    "create_boxplot(axes[1], control_before, test_before, 'before')\n",
    "\n",
    "# Общий заголовок\n",
    "fig.suptitle('Lag before labs deadlines. After and before the Newsfeed', fontsize=15, x=0.45, y=1)\n",
    "plt.tight_layout()\n",
    "plt.show()"
   ]
  },
  {
   "cell_type": "markdown",
   "id": "0031114a-aff8-43be-85b8-7f11fbc167a1",
   "metadata": {},
   "source": [
    "### Каков был IQR контрольной группы до появления новостей?"
   ]
  },
  {
   "cell_type": "markdown",
   "id": "fa84ef49-24ed-4e98-b73b-e0e6f88c8f8e",
   "metadata": {},
   "source": [
    "**Ответ: 150**"
   ]
  },
  {
   "cell_type": "code",
   "execution_count": 90,
   "id": "2eb38e73-696c-4d5a-93e9-46523bc430d5",
   "metadata": {},
   "outputs": [],
   "source": [
    "conn.close()"
   ]
  }
 ],
 "metadata": {
  "kernelspec": {
   "display_name": "Python 3 (ipykernel)",
   "language": "python",
   "name": "python3"
  },
  "language_info": {
   "codemirror_mode": {
    "name": "ipython",
    "version": 3
   },
   "file_extension": ".py",
   "mimetype": "text/x-python",
   "name": "python",
   "nbconvert_exporter": "python",
   "pygments_lexer": "ipython3",
   "version": "3.8.10"
  }
 },
 "nbformat": 4,
 "nbformat_minor": 5
}
